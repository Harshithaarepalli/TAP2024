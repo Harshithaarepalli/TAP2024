{
 "cells": [
  {
   "cell_type": "code",
   "execution_count": 1,
   "id": "64ae51e2-57e4-45a2-8748-2aa356334ae3",
   "metadata": {},
   "outputs": [],
   "source": [
    "import numpy as np\n",
    "import pandas as pd\n",
    "import matplotlib.pyplot as plt\n",
    "import seaborn as sns\n",
    "from sklearn.preprocessing import LabelEncoder\n",
    "from imblearn.under_sampling import RandomUnderSampler\n",
    "from collections import Counter\n",
    "from sklearn.model_selection import train_test_split\n",
    "from sklearn.ensemble import RandomForestClassifier\n",
    "from sklearn.preprocessing import StandardScaler\n",
    "from sklearn.metrics import accuracy_score,precision_score,recall_score,f1_score,confusion_matrix,classification_report,roc_curve, roc_auc_score\n",
    "from sklearn.model_selection import RandomizedSearchCV\n",
    "import warnings\n",
    "warnings.filterwarnings(\"ignore\")\n",
    "import time\n",
    "from imblearn.over_sampling import SMOTE"
   ]
  },
  {
   "cell_type": "markdown",
   "id": "dcd4e29a-3777-43e5-9661-c77798c67d6b",
   "metadata": {},
   "source": [
    "### Data Collection and Preprocessing"
   ]
  },
  {
   "cell_type": "code",
   "execution_count": 3,
   "id": "5b327c98-9208-43ad-81d6-8a96707f5e5e",
   "metadata": {},
   "outputs": [
    {
     "name": "stdout",
     "output_type": "stream",
     "text": [
      "Info about Data:\n",
      "Number of records: 1296675\n",
      "Number of columns: 23\n"
     ]
    }
   ],
   "source": [
    "#Reading Data\n",
    "def read_data(data):\n",
    "    global df\n",
    "    df=pd.read_csv(data)\n",
    "    print(f'Info about Data:\\nNumber of records: {df.shape[0]}\\nNumber of columns: {df.shape[1]}')\n",
    "    return df\n",
    "df=read_data('fraudTrain.csv')"
   ]
  },
  {
   "cell_type": "code",
   "execution_count": 4,
   "id": "2353874e-4913-4588-af6f-56395d63c77e",
   "metadata": {},
   "outputs": [],
   "source": [
    "def transform(data):\n",
    "    data['trans_date_trans_time']=pd.to_datetime(data['trans_date_trans_time'],dayfirst=False)\n",
    "    data['trans_hour']=data['trans_date_trans_time'].dt.hour\n",
    "    data['trans_day']=data['trans_date_trans_time'].dt.day_name()\n",
    "    data['dob']=pd.to_datetime(data['dob'])\n",
    "    data['age']=np.round((data['trans_date_trans_time']-data['dob'])/np.timedelta64(365,'D')).astype('int')\n",
    "    return data\n",
    "df=transform(df)"
   ]
  },
  {
   "cell_type": "markdown",
   "id": "a6b9486a-96ec-4d8f-8406-3c3743b4af9a",
   "metadata": {},
   "source": [
    "#### Exploratory Data Analysis "
   ]
  },
  {
   "cell_type": "code",
   "execution_count": 6,
   "id": "03962c60-1648-4893-a371-2b592ed16ab8",
   "metadata": {
    "scrolled": true
   },
   "outputs": [
    {
     "name": "stdout",
     "output_type": "stream",
     "text": [
      "<class 'pandas.core.frame.DataFrame'>\n",
      "RangeIndex: 1296675 entries, 0 to 1296674\n",
      "Data columns (total 26 columns):\n",
      " #   Column                 Non-Null Count    Dtype         \n",
      "---  ------                 --------------    -----         \n",
      " 0   Unnamed: 0             1296675 non-null  int64         \n",
      " 1   trans_date_trans_time  1296675 non-null  datetime64[ns]\n",
      " 2   cc_num                 1296675 non-null  int64         \n",
      " 3   merchant               1296675 non-null  object        \n",
      " 4   category               1296675 non-null  object        \n",
      " 5   amt                    1296675 non-null  float64       \n",
      " 6   first                  1296675 non-null  object        \n",
      " 7   last                   1296675 non-null  object        \n",
      " 8   gender                 1296675 non-null  object        \n",
      " 9   street                 1296675 non-null  object        \n",
      " 10  city                   1296675 non-null  object        \n",
      " 11  state                  1296675 non-null  object        \n",
      " 12  zip                    1296675 non-null  int64         \n",
      " 13  lat                    1296675 non-null  float64       \n",
      " 14  long                   1296675 non-null  float64       \n",
      " 15  city_pop               1296675 non-null  int64         \n",
      " 16  job                    1296675 non-null  object        \n",
      " 17  dob                    1296675 non-null  datetime64[ns]\n",
      " 18  trans_num              1296675 non-null  object        \n",
      " 19  unix_time              1296675 non-null  int64         \n",
      " 20  merch_lat              1296675 non-null  float64       \n",
      " 21  merch_long             1296675 non-null  float64       \n",
      " 22  is_fraud               1296675 non-null  int64         \n",
      " 23  trans_hour             1296675 non-null  int32         \n",
      " 24  trans_day              1296675 non-null  object        \n",
      " 25  age                    1296675 non-null  int32         \n",
      "dtypes: datetime64[ns](2), float64(5), int32(2), int64(6), object(11)\n",
      "memory usage: 247.3+ MB\n"
     ]
    }
   ],
   "source": [
    "#data details\n",
    "df.info()"
   ]
  },
  {
   "cell_type": "code",
   "execution_count": 7,
   "id": "f3d766a6-3e4b-4dcf-9690-597197da2143",
   "metadata": {
    "scrolled": true
   },
   "outputs": [
    {
     "name": "stdout",
     "output_type": "stream",
     "text": [
      "Checking Null values in each column: Unnamed: 0               0\n",
      "trans_date_trans_time    0\n",
      "cc_num                   0\n",
      "merchant                 0\n",
      "category                 0\n",
      "amt                      0\n",
      "first                    0\n",
      "last                     0\n",
      "gender                   0\n",
      "street                   0\n",
      "city                     0\n",
      "state                    0\n",
      "zip                      0\n",
      "lat                      0\n",
      "long                     0\n",
      "city_pop                 0\n",
      "job                      0\n",
      "dob                      0\n",
      "trans_num                0\n",
      "unix_time                0\n",
      "merch_lat                0\n",
      "merch_long               0\n",
      "is_fraud                 0\n",
      "trans_hour               0\n",
      "trans_day                0\n",
      "age                      0\n",
      "dtype: int64\n"
     ]
    }
   ],
   "source": [
    "#data details\n",
    "print(f'Checking Null values in each column: {df.isna().sum()}')"
   ]
  },
  {
   "cell_type": "code",
   "execution_count": 8,
   "id": "ff9ea7fd-308f-4a1f-a661-0b33f022a03a",
   "metadata": {},
   "outputs": [
    {
     "name": "stdout",
     "output_type": "stream",
     "text": [
      "Checking Null values in df: 0\n"
     ]
    }
   ],
   "source": [
    "#data details\n",
    "print(f'Checking Null values in df: {df.isna().sum().sum()}')"
   ]
  },
  {
   "cell_type": "code",
   "execution_count": 9,
   "id": "d8904cfb-00b3-495e-8d65-f8354bc077e7",
   "metadata": {},
   "outputs": [
    {
     "name": "stdout",
     "output_type": "stream",
     "text": [
      "Checking Duplicate values in df: 0\n"
     ]
    }
   ],
   "source": [
    "#data details\n",
    "print(f'Checking Duplicate values in df: {df.duplicated().sum()}')"
   ]
  },
  {
   "cell_type": "code",
   "execution_count": 10,
   "id": "a4477020-3b7a-4552-85f8-2ec0185cbe7b",
   "metadata": {},
   "outputs": [
    {
     "data": {
      "text/plain": [
       "<Axes: xlabel='is_fraud'>"
      ]
     },
     "execution_count": 10,
     "metadata": {},
     "output_type": "execute_result"
    },
    {
     "data": {
      "image/png": "[encoded data removed]",
      "text/plain": [
       "<Figure size 400x300 with 1 Axes>"
      ]
     },
     "metadata": {},
     "output_type": "display_data"
    }
   ],
   "source": [
    "plt.figure(figsize=(4,3))\n",
    "df.groupby('is_fraud').count()['cc_num'].plot.bar()"
   ]
  },
  {
   "cell_type": "markdown",
   "id": "eb3e025e-2c98-40b4-8e65-635e7731cc6a",
   "metadata": {},
   "source": [
    "We can see that, as usual, the number of fraudulent transactions is much smaller, which can lead our model to predict non fraudulent (0) with higher performance than fraud (1) transactions."
   ]
  },
  {
   "cell_type": "markdown",
   "id": "6d5c0ac4-5be6-48b1-88a7-cf8f6cba1dc2",
   "metadata": {},
   "source": [
    "**-Exploring Amount data**"
   ]
  },
  {
   "cell_type": "code",
   "execution_count": 13,
   "id": "5345aff3-a755-4b4e-a10a-c9dbbec7a97e",
   "metadata": {},
   "outputs": [
    {
     "data": {
      "text/html": [
       "<div>\n",
       "<style scoped>\n",
       "    .dataframe tbody tr th:only-of-type {\n",
       "        vertical-align: middle;\n",
       "    }\n",
       "\n",
       "    .dataframe tbody tr th {\n",
       "        vertical-align: top;\n",
       "    }\n",
       "\n",
       "    .dataframe thead th {\n",
       "        text-align: right;\n",
       "    }\n",
       "</style>\n",
       "<table border=\"1\" class=\"dataframe\">\n",
       "  <thead>\n",
       "    <tr style=\"text-align: right;\">\n",
       "      <th></th>\n",
       "      <th>Row Type</th>\n",
       "      <th>Overall Amt Distribution</th>\n",
       "      <th>Non-Fraud Amt Distribution</th>\n",
       "      <th>Fraud Amt Distribution</th>\n",
       "    </tr>\n",
       "  </thead>\n",
       "  <tbody>\n",
       "    <tr>\n",
       "      <th>0</th>\n",
       "      <td>count</td>\n",
       "      <td>1.296675e+06</td>\n",
       "      <td>1.289169e+06</td>\n",
       "      <td>7506.000000</td>\n",
       "    </tr>\n",
       "    <tr>\n",
       "      <th>1</th>\n",
       "      <td>mean</td>\n",
       "      <td>7.035104e+01</td>\n",
       "      <td>6.766711e+01</td>\n",
       "      <td>531.320092</td>\n",
       "    </tr>\n",
       "    <tr>\n",
       "      <th>2</th>\n",
       "      <td>std</td>\n",
       "      <td>1.603160e+02</td>\n",
       "      <td>1.540080e+02</td>\n",
       "      <td>390.560070</td>\n",
       "    </tr>\n",
       "    <tr>\n",
       "      <th>3</th>\n",
       "      <td>min</td>\n",
       "      <td>1.000000e+00</td>\n",
       "      <td>1.000000e+00</td>\n",
       "      <td>1.060000</td>\n",
       "    </tr>\n",
       "    <tr>\n",
       "      <th>4</th>\n",
       "      <td>50%</td>\n",
       "      <td>4.752000e+01</td>\n",
       "      <td>4.728000e+01</td>\n",
       "      <td>396.505000</td>\n",
       "    </tr>\n",
       "    <tr>\n",
       "      <th>5</th>\n",
       "      <td>95%</td>\n",
       "      <td>1.963100e+02</td>\n",
       "      <td>1.899000e+02</td>\n",
       "      <td>1083.985000</td>\n",
       "    </tr>\n",
       "    <tr>\n",
       "      <th>6</th>\n",
       "      <td>99.9%</td>\n",
       "      <td>1.499254e+03</td>\n",
       "      <td>1.503696e+03</td>\n",
       "      <td>1291.038400</td>\n",
       "    </tr>\n",
       "    <tr>\n",
       "      <th>7</th>\n",
       "      <td>max</td>\n",
       "      <td>2.894890e+04</td>\n",
       "      <td>2.894890e+04</td>\n",
       "      <td>1376.040000</td>\n",
       "    </tr>\n",
       "  </tbody>\n",
       "</table>\n",
       "</div>"
      ],
      "text/plain": [
       "  Row Type  Overall Amt Distribution  Non-Fraud Amt Distribution  \\\n",
       "0    count              1.296675e+06                1.289169e+06   \n",
       "1     mean              7.035104e+01                6.766711e+01   \n",
       "2      std              1.603160e+02                1.540080e+02   \n",
       "3      min              1.000000e+00                1.000000e+00   \n",
       "4      50%              4.752000e+01                4.728000e+01   \n",
       "5      95%              1.963100e+02                1.899000e+02   \n",
       "6    99.9%              1.499254e+03                1.503696e+03   \n",
       "7      max              2.894890e+04                2.894890e+04   \n",
       "\n",
       "   Fraud Amt Distribution  \n",
       "0             7506.000000  \n",
       "1              531.320092  \n",
       "2              390.560070  \n",
       "3                1.060000  \n",
       "4              396.505000  \n",
       "5             1083.985000  \n",
       "6             1291.038400  \n",
       "7             1376.040000  "
      ]
     },
     "execution_count": 13,
     "metadata": {},
     "output_type": "execute_result"
    }
   ],
   "source": [
    "pd.concat([df['amt'].describe(percentiles = [0.5,0.95,0.999]).reset_index().rename(columns={'index': 'Row Type', 'amt':'Overall Amt Distribution'}),\n",
    "     df.loc[df['is_fraud']==0,['amt']].describe(percentiles = [0.5,0.95,0.999]).reset_index(drop = 1).rename(columns={'amt':'Non-Fraud Amt Distribution'}),\n",
    "     df.loc[df['is_fraud']==1,['amt']].describe(percentiles = [0.5,0.95,0.999]).reset_index(drop = 1).rename(columns={'amt':'Fraud Amt Distribution'})],axis=1)"
   ]
  },
  {
   "cell_type": "markdown",
   "id": "b2d19ee2-52c2-44fb-a3b6-0d754fc20271",
   "metadata": {},
   "source": [
    "- The mean of the 'non-fraud amt distribution' is far less than the 'fraud amt distribution'"
   ]
  },
  {
   "cell_type": "code",
   "execution_count": 15,
   "id": "92d7453c-14e2-4f7e-8855-f007a142b325",
   "metadata": {},
   "outputs": [
    {
     "data": {
      "image/png": "[encoded data removed]",
      "text/plain": [
       "<Figure size 1800x800 with 5 Axes>"
      ]
     },
     "metadata": {},
     "output_type": "display_data"
    }
   ],
   "source": [
    "plt.subplots(figsize=(18,8))\n",
    "graphs=[]\n",
    "graphs.append(sns.boxplot(df.amt, ax=plt.subplot(211),orient='h'))\n",
    "graphs.append(sns.histplot(df[df.amt <= 1500].amt, bins=50,ax=plt.subplot(234)))\n",
    "graphs.append(sns.histplot(df[(df.is_fraud==0) & (df.amt<=1500)].amt, bins=50, ax=plt.subplot(235)))\n",
    "graphs.append(sns.histplot(df[(df.is_fraud==1) & (df.amt<=1500)].amt, bins=50, ax=plt.subplot(236)))\n",
    "graphs[1].set_title('Overall amt Dist')\n",
    "graphs[2].set_title('Non Fraud amt Dist')\n",
    "graphs[3].set_title('Fraud amt Dist')\n",
    "plt.show()"
   ]
  },
  {
   "cell_type": "markdown",
   "id": "c6b97bf2",
   "metadata": {},
   "source": [
    "- From the above plots, it can be noted that the 'amt' feature has a lot of outliers. This means that, the variance in the feature is huge.\n"
   ]
  },
  {
   "cell_type": "markdown",
   "id": "a0c805ef",
   "metadata": {},
   "source": [
    "**Inference**:\n",
    "\n",
    "- From the above plot, though the mean of the fraud amount seems to be more than that of the non fraud or the overall amount.\n",
    "- From this, it can be observed that the fraud amount transaction often happens in small amount, often around 200 and at times in the range of 200 to 400.\n",
    "- Therefore, the transactions in which small amount is involved can be monitored more closely in order to detect and prevent credit card fraud."
   ]
  },
  {
   "cell_type": "markdown",
   "id": "74ac597f",
   "metadata": {},
   "source": [
    "#### Exploring State data:"
   ]
  },
  {
   "cell_type": "code",
   "execution_count": 19,
   "id": "64e99b6e",
   "metadata": {},
   "outputs": [
    {
     "data": {
      "text/plain": [
       "51"
      ]
     },
     "execution_count": 19,
     "metadata": {},
     "output_type": "execute_result"
    }
   ],
   "source": [
    "df.state.nunique()"
   ]
  },
  {
   "cell_type": "markdown",
   "id": "dda50286",
   "metadata": {},
   "source": [
    "since there are a lot of categories in the 'state' variable of the data, we will now only look at the top 15 states wherein the transaction frequencies are the highest."
   ]
  },
  {
   "cell_type": "markdown",
   "id": "06896847",
   "metadata": {},
   "source": [
    "Now, let us see the State - fraud distribution in the given dataframe."
   ]
  },
  {
   "cell_type": "code",
   "execution_count": 22,
   "id": "2f3353ef",
   "metadata": {},
   "outputs": [
    {
     "data": {
      "text/html": [
       "<div>\n",
       "<style scoped>\n",
       "    .dataframe tbody tr th:only-of-type {\n",
       "        vertical-align: middle;\n",
       "    }\n",
       "\n",
       "    .dataframe tbody tr th {\n",
       "        vertical-align: top;\n",
       "    }\n",
       "\n",
       "    .dataframe thead th {\n",
       "        text-align: right;\n",
       "    }\n",
       "</style>\n",
       "<table border=\"1\" class=\"dataframe\">\n",
       "  <thead>\n",
       "    <tr style=\"text-align: right;\">\n",
       "      <th></th>\n",
       "      <th>state</th>\n",
       "      <th>is_fraud</th>\n",
       "      <th>Transaction count</th>\n",
       "      <th>state_count</th>\n",
       "      <th>Transaction percentage</th>\n",
       "    </tr>\n",
       "  </thead>\n",
       "  <tbody>\n",
       "    <tr>\n",
       "      <th>16</th>\n",
       "      <td>DE</td>\n",
       "      <td>1</td>\n",
       "      <td>9</td>\n",
       "      <td>9</td>\n",
       "      <td>100.000000</td>\n",
       "    </tr>\n",
       "    <tr>\n",
       "      <th>78</th>\n",
       "      <td>RI</td>\n",
       "      <td>1</td>\n",
       "      <td>15</td>\n",
       "      <td>550</td>\n",
       "      <td>2.727273</td>\n",
       "    </tr>\n",
       "    <tr>\n",
       "      <th>1</th>\n",
       "      <td>AK</td>\n",
       "      <td>1</td>\n",
       "      <td>36</td>\n",
       "      <td>2120</td>\n",
       "      <td>1.698113</td>\n",
       "    </tr>\n",
       "    <tr>\n",
       "      <th>66</th>\n",
       "      <td>NV</td>\n",
       "      <td>1</td>\n",
       "      <td>47</td>\n",
       "      <td>5607</td>\n",
       "      <td>0.838238</td>\n",
       "    </tr>\n",
       "    <tr>\n",
       "      <th>11</th>\n",
       "      <td>CO</td>\n",
       "      <td>1</td>\n",
       "      <td>113</td>\n",
       "      <td>13880</td>\n",
       "      <td>0.814121</td>\n",
       "    </tr>\n",
       "    <tr>\n",
       "      <th>74</th>\n",
       "      <td>OR</td>\n",
       "      <td>1</td>\n",
       "      <td>149</td>\n",
       "      <td>18597</td>\n",
       "      <td>0.801204</td>\n",
       "    </tr>\n",
       "    <tr>\n",
       "      <th>84</th>\n",
       "      <td>TN</td>\n",
       "      <td>1</td>\n",
       "      <td>140</td>\n",
       "      <td>17554</td>\n",
       "      <td>0.797539</td>\n",
       "    </tr>\n",
       "    <tr>\n",
       "      <th>58</th>\n",
       "      <td>NE</td>\n",
       "      <td>1</td>\n",
       "      <td>180</td>\n",
       "      <td>24168</td>\n",
       "      <td>0.744786</td>\n",
       "    </tr>\n",
       "    <tr>\n",
       "      <th>42</th>\n",
       "      <td>ME</td>\n",
       "      <td>1</td>\n",
       "      <td>119</td>\n",
       "      <td>16505</td>\n",
       "      <td>0.720994</td>\n",
       "    </tr>\n",
       "    <tr>\n",
       "      <th>60</th>\n",
       "      <td>NH</td>\n",
       "      <td>1</td>\n",
       "      <td>59</td>\n",
       "      <td>8278</td>\n",
       "      <td>0.712733</td>\n",
       "    </tr>\n",
       "    <tr>\n",
       "      <th>70</th>\n",
       "      <td>OH</td>\n",
       "      <td>1</td>\n",
       "      <td>321</td>\n",
       "      <td>46480</td>\n",
       "      <td>0.690620</td>\n",
       "    </tr>\n",
       "    <tr>\n",
       "      <th>32</th>\n",
       "      <td>KS</td>\n",
       "      <td>1</td>\n",
       "      <td>156</td>\n",
       "      <td>22996</td>\n",
       "      <td>0.678379</td>\n",
       "    </tr>\n",
       "    <tr>\n",
       "      <th>90</th>\n",
       "      <td>VA</td>\n",
       "      <td>1</td>\n",
       "      <td>198</td>\n",
       "      <td>29250</td>\n",
       "      <td>0.676923</td>\n",
       "    </tr>\n",
       "    <tr>\n",
       "      <th>68</th>\n",
       "      <td>NY</td>\n",
       "      <td>1</td>\n",
       "      <td>555</td>\n",
       "      <td>83501</td>\n",
       "      <td>0.664663</td>\n",
       "    </tr>\n",
       "    <tr>\n",
       "      <th>80</th>\n",
       "      <td>SC</td>\n",
       "      <td>1</td>\n",
       "      <td>193</td>\n",
       "      <td>29190</td>\n",
       "      <td>0.661185</td>\n",
       "    </tr>\n",
       "  </tbody>\n",
       "</table>\n",
       "</div>"
      ],
      "text/plain": [
       "   state  is_fraud  Transaction count  state_count  Transaction percentage\n",
       "16    DE         1                  9            9              100.000000\n",
       "78    RI         1                 15          550                2.727273\n",
       "1     AK         1                 36         2120                1.698113\n",
       "66    NV         1                 47         5607                0.838238\n",
       "11    CO         1                113        13880                0.814121\n",
       "74    OR         1                149        18597                0.801204\n",
       "84    TN         1                140        17554                0.797539\n",
       "58    NE         1                180        24168                0.744786\n",
       "42    ME         1                119        16505                0.720994\n",
       "60    NH         1                 59         8278                0.712733\n",
       "70    OH         1                321        46480                0.690620\n",
       "32    KS         1                156        22996                0.678379\n",
       "90    VA         1                198        29250                0.676923\n",
       "68    NY         1                555        83501                0.664663\n",
       "80    SC         1                193        29190                0.661185"
      ]
     },
     "execution_count": 22,
     "metadata": {},
     "output_type": "execute_result"
    }
   ],
   "source": [
    "#constructing the state-transaction count distribution\n",
    "state = df[['state','trans_num']].groupby(['state']).count().reset_index()\n",
    "state.columns = ['state', 'state_count']\n",
    "#creating the state-fraud distribution\n",
    "fraud_state = df[['state', 'trans_num', 'is_fraud']].groupby(['state','is_fraud']).count().reset_index()\n",
    "fraud_state.columns = ['state', 'is_fraud', 'Transaction count']\n",
    "fraud_state = fraud_state.merge(state[['state', 'state_count']], how='inner', on='state')\n",
    "fraud_state['Transaction percentage'] = (fraud_state['Transaction count']/fraud_state['state_count'])*100\n",
    "#viewing the top 15 states with high fraudulent transactions\n",
    "fraud_state[fraud_state['is_fraud'] == 1].sort_values(by = ['Transaction percentage'], ascending=False).head(15)"
   ]
  },
  {
   "cell_type": "code",
   "execution_count": 23,
   "id": "6227cccb",
   "metadata": {},
   "outputs": [
    {
     "name": "stdout",
     "output_type": "stream",
     "text": [
      "state with more than 1% fraudulent transactions:\n",
      "\n",
      "1     AK\n",
      "16    DE\n",
      "78    RI\n",
      "Name: state, dtype: object\n"
     ]
    }
   ],
   "source": [
    "print('state with more than 1% fraudulent transactions:\\n')\n",
    "print(fraud_state.loc[(fraud_state.is_fraud == 1) & (fraud_state['Transaction percentage'] >=1)]['state'])"
   ]
  },
  {
   "cell_type": "markdown",
   "id": "30b6feca",
   "metadata": {},
   "source": [
    "Observation (State feature):\n",
    "\n",
    "- The states 'IN', 'VA', 'IA' have the most amount of transactions noted in the given dataset.\n",
    "- The next highest in the list are 'KY', 'OR', 'CT', 'MS' and 'NM'. Majority of the transactions are happening in these states, and hence there is a high chance of fraudulent transaction.\n",
    "- In the top 15 states with high transaction volumes, it can be noted that all states have a fraudulent transaction of about 0.5%. 'AK' is the most fraudulent state."
   ]
  },
  {
   "cell_type": "markdown",
   "id": "a0a96406",
   "metadata": {},
   "source": [
    "#### Exploring City and Zip data"
   ]
  },
  {
   "cell_type": "code",
   "execution_count": 26,
   "id": "affeb1e7",
   "metadata": {},
   "outputs": [
    {
     "name": "stdout",
     "output_type": "stream",
     "text": [
      "number of cities:  894\n",
      "number of zip codes:  970\n"
     ]
    }
   ],
   "source": [
    "print('number of cities: ',df['city'].nunique())\n",
    "print('number of zip codes: ',df['zip'].nunique())"
   ]
  },
  {
   "cell_type": "code",
   "execution_count": 27,
   "id": "2317a5c8",
   "metadata": {},
   "outputs": [
    {
     "data": {
      "text/html": [
       "<div>\n",
       "<style scoped>\n",
       "    .dataframe tbody tr th:only-of-type {\n",
       "        vertical-align: middle;\n",
       "    }\n",
       "\n",
       "    .dataframe tbody tr th {\n",
       "        vertical-align: top;\n",
       "    }\n",
       "\n",
       "    .dataframe thead th {\n",
       "        text-align: right;\n",
       "    }\n",
       "</style>\n",
       "<table border=\"1\" class=\"dataframe\">\n",
       "  <thead>\n",
       "    <tr style=\"text-align: right;\">\n",
       "      <th></th>\n",
       "      <th>city</th>\n",
       "      <th>is_fraud</th>\n",
       "      <th>Transaction count</th>\n",
       "      <th>city_count</th>\n",
       "      <th>Transaction percentage</th>\n",
       "    </tr>\n",
       "  </thead>\n",
       "  <tbody>\n",
       "    <tr>\n",
       "      <th>401</th>\n",
       "      <td>East China</td>\n",
       "      <td>1</td>\n",
       "      <td>9</td>\n",
       "      <td>9</td>\n",
       "      <td>100.0</td>\n",
       "    </tr>\n",
       "    <tr>\n",
       "      <th>1441</th>\n",
       "      <td>Walkertown</td>\n",
       "      <td>1</td>\n",
       "      <td>11</td>\n",
       "      <td>11</td>\n",
       "      <td>100.0</td>\n",
       "    </tr>\n",
       "    <tr>\n",
       "      <th>476</th>\n",
       "      <td>Freeport</td>\n",
       "      <td>1</td>\n",
       "      <td>9</td>\n",
       "      <td>9</td>\n",
       "      <td>100.0</td>\n",
       "    </tr>\n",
       "    <tr>\n",
       "      <th>483</th>\n",
       "      <td>Gaines</td>\n",
       "      <td>1</td>\n",
       "      <td>8</td>\n",
       "      <td>8</td>\n",
       "      <td>100.0</td>\n",
       "    </tr>\n",
       "    <tr>\n",
       "      <th>511</th>\n",
       "      <td>Granbury</td>\n",
       "      <td>1</td>\n",
       "      <td>12</td>\n",
       "      <td>12</td>\n",
       "      <td>100.0</td>\n",
       "    </tr>\n",
       "    <tr>\n",
       "      <th>1060</th>\n",
       "      <td>Orange Park</td>\n",
       "      <td>1</td>\n",
       "      <td>10</td>\n",
       "      <td>10</td>\n",
       "      <td>100.0</td>\n",
       "    </tr>\n",
       "    <tr>\n",
       "      <th>531</th>\n",
       "      <td>Greenport</td>\n",
       "      <td>1</td>\n",
       "      <td>10</td>\n",
       "      <td>10</td>\n",
       "      <td>100.0</td>\n",
       "    </tr>\n",
       "    <tr>\n",
       "      <th>101</th>\n",
       "      <td>Beacon</td>\n",
       "      <td>1</td>\n",
       "      <td>11</td>\n",
       "      <td>11</td>\n",
       "      <td>100.0</td>\n",
       "    </tr>\n",
       "    <tr>\n",
       "      <th>1444</th>\n",
       "      <td>Wappapello</td>\n",
       "      <td>1</td>\n",
       "      <td>8</td>\n",
       "      <td>8</td>\n",
       "      <td>100.0</td>\n",
       "    </tr>\n",
       "    <tr>\n",
       "      <th>989</th>\n",
       "      <td>Nicholson</td>\n",
       "      <td>1</td>\n",
       "      <td>9</td>\n",
       "      <td>9</td>\n",
       "      <td>100.0</td>\n",
       "    </tr>\n",
       "    <tr>\n",
       "      <th>1447</th>\n",
       "      <td>Wartburg</td>\n",
       "      <td>1</td>\n",
       "      <td>11</td>\n",
       "      <td>11</td>\n",
       "      <td>100.0</td>\n",
       "    </tr>\n",
       "    <tr>\n",
       "      <th>186</th>\n",
       "      <td>Bruce</td>\n",
       "      <td>1</td>\n",
       "      <td>7</td>\n",
       "      <td>7</td>\n",
       "      <td>100.0</td>\n",
       "    </tr>\n",
       "    <tr>\n",
       "      <th>1456</th>\n",
       "      <td>Waukau</td>\n",
       "      <td>1</td>\n",
       "      <td>10</td>\n",
       "      <td>10</td>\n",
       "      <td>100.0</td>\n",
       "    </tr>\n",
       "    <tr>\n",
       "      <th>1041</th>\n",
       "      <td>Oakton</td>\n",
       "      <td>1</td>\n",
       "      <td>9</td>\n",
       "      <td>9</td>\n",
       "      <td>100.0</td>\n",
       "    </tr>\n",
       "    <tr>\n",
       "      <th>1006</th>\n",
       "      <td>North East</td>\n",
       "      <td>1</td>\n",
       "      <td>9</td>\n",
       "      <td>9</td>\n",
       "      <td>100.0</td>\n",
       "    </tr>\n",
       "  </tbody>\n",
       "</table>\n",
       "</div>"
      ],
      "text/plain": [
       "             city  is_fraud  Transaction count  city_count  \\\n",
       "401    East China         1                  9           9   \n",
       "1441   Walkertown         1                 11          11   \n",
       "476      Freeport         1                  9           9   \n",
       "483        Gaines         1                  8           8   \n",
       "511      Granbury         1                 12          12   \n",
       "1060  Orange Park         1                 10          10   \n",
       "531     Greenport         1                 10          10   \n",
       "101        Beacon         1                 11          11   \n",
       "1444   Wappapello         1                  8           8   \n",
       "989     Nicholson         1                  9           9   \n",
       "1447     Wartburg         1                 11          11   \n",
       "186         Bruce         1                  7           7   \n",
       "1456       Waukau         1                 10          10   \n",
       "1041       Oakton         1                  9           9   \n",
       "1006   North East         1                  9           9   \n",
       "\n",
       "      Transaction percentage  \n",
       "401                    100.0  \n",
       "1441                   100.0  \n",
       "476                    100.0  \n",
       "483                    100.0  \n",
       "511                    100.0  \n",
       "1060                   100.0  \n",
       "531                    100.0  \n",
       "101                    100.0  \n",
       "1444                   100.0  \n",
       "989                    100.0  \n",
       "1447                   100.0  \n",
       "186                    100.0  \n",
       "1456                   100.0  \n",
       "1041                   100.0  \n",
       "1006                   100.0  "
      ]
     },
     "execution_count": 27,
     "metadata": {},
     "output_type": "execute_result"
    }
   ],
   "source": [
    "#constructing the city-transaction count distribution\n",
    "city = df[['city','trans_num']].groupby(['city']).count().reset_index()\n",
    "city.columns = ['city', 'city_count']\n",
    "\n",
    "#creating the city-fraud distribution\n",
    "fraud_city = df[['city', 'trans_num', 'is_fraud']].groupby(['city','is_fraud']).count().reset_index()\n",
    "fraud_city.columns = ['city', 'is_fraud', 'Transaction count']\n",
    "\n",
    "fraud_city = fraud_city.merge(city[['city', 'city_count']], how='inner', on='city')\n",
    "\n",
    "fraud_city['Transaction percentage'] = (fraud_city['Transaction count']/fraud_city['city_count'])*100\n",
    "\n",
    "#viewing the top 15 cities with high fraudulent transaction volumes\n",
    "fraud_city[fraud_city['is_fraud'] == 1].sort_values(by = ['Transaction percentage'], ascending=False).head(15)"
   ]
  },
  {
   "cell_type": "code",
   "execution_count": 28,
   "id": "d68000ac",
   "metadata": {},
   "outputs": [
    {
     "data": {
      "text/html": [
       "<div>\n",
       "<style scoped>\n",
       "    .dataframe tbody tr th:only-of-type {\n",
       "        vertical-align: middle;\n",
       "    }\n",
       "\n",
       "    .dataframe tbody tr th {\n",
       "        vertical-align: top;\n",
       "    }\n",
       "\n",
       "    .dataframe thead th {\n",
       "        text-align: right;\n",
       "    }\n",
       "</style>\n",
       "<table border=\"1\" class=\"dataframe\">\n",
       "  <thead>\n",
       "    <tr style=\"text-align: right;\">\n",
       "      <th></th>\n",
       "      <th>zip</th>\n",
       "      <th>is_fraud</th>\n",
       "      <th>Transaction count</th>\n",
       "      <th>zip_count</th>\n",
       "      <th>Transaction percentage</th>\n",
       "    </tr>\n",
       "  </thead>\n",
       "  <tbody>\n",
       "    <tr>\n",
       "      <th>1363</th>\n",
       "      <td>77027</td>\n",
       "      <td>1</td>\n",
       "      <td>7</td>\n",
       "      <td>7</td>\n",
       "      <td>100.0</td>\n",
       "    </tr>\n",
       "    <tr>\n",
       "      <th>1315</th>\n",
       "      <td>75246</td>\n",
       "      <td>1</td>\n",
       "      <td>11</td>\n",
       "      <td>11</td>\n",
       "      <td>100.0</td>\n",
       "    </tr>\n",
       "    <tr>\n",
       "      <th>135</th>\n",
       "      <td>11944</td>\n",
       "      <td>1</td>\n",
       "      <td>10</td>\n",
       "      <td>10</td>\n",
       "      <td>100.0</td>\n",
       "    </tr>\n",
       "    <tr>\n",
       "      <th>1293</th>\n",
       "      <td>74108</td>\n",
       "      <td>1</td>\n",
       "      <td>10</td>\n",
       "      <td>10</td>\n",
       "      <td>100.0</td>\n",
       "    </tr>\n",
       "    <tr>\n",
       "      <th>130</th>\n",
       "      <td>11763</td>\n",
       "      <td>1</td>\n",
       "      <td>9</td>\n",
       "      <td>9</td>\n",
       "      <td>100.0</td>\n",
       "    </tr>\n",
       "    <tr>\n",
       "      <th>129</th>\n",
       "      <td>11747</td>\n",
       "      <td>1</td>\n",
       "      <td>15</td>\n",
       "      <td>15</td>\n",
       "      <td>100.0</td>\n",
       "    </tr>\n",
       "    <tr>\n",
       "      <th>527</th>\n",
       "      <td>32065</td>\n",
       "      <td>1</td>\n",
       "      <td>10</td>\n",
       "      <td>10</td>\n",
       "      <td>100.0</td>\n",
       "    </tr>\n",
       "    <tr>\n",
       "      <th>1064</th>\n",
       "      <td>61364</td>\n",
       "      <td>1</td>\n",
       "      <td>7</td>\n",
       "      <td>7</td>\n",
       "      <td>100.0</td>\n",
       "    </tr>\n",
       "    <tr>\n",
       "      <th>446</th>\n",
       "      <td>28412</td>\n",
       "      <td>1</td>\n",
       "      <td>9</td>\n",
       "      <td>9</td>\n",
       "      <td>100.0</td>\n",
       "    </tr>\n",
       "    <tr>\n",
       "      <th>1513</th>\n",
       "      <td>89109</td>\n",
       "      <td>1</td>\n",
       "      <td>8</td>\n",
       "      <td>8</td>\n",
       "      <td>100.0</td>\n",
       "    </tr>\n",
       "    <tr>\n",
       "      <th>117</th>\n",
       "      <td>10954</td>\n",
       "      <td>1</td>\n",
       "      <td>10</td>\n",
       "      <td>10</td>\n",
       "      <td>100.0</td>\n",
       "    </tr>\n",
       "    <tr>\n",
       "      <th>115</th>\n",
       "      <td>10553</td>\n",
       "      <td>1</td>\n",
       "      <td>11</td>\n",
       "      <td>11</td>\n",
       "      <td>100.0</td>\n",
       "    </tr>\n",
       "    <tr>\n",
       "      <th>256</th>\n",
       "      <td>16041</td>\n",
       "      <td>1</td>\n",
       "      <td>7</td>\n",
       "      <td>7</td>\n",
       "      <td>100.0</td>\n",
       "    </tr>\n",
       "    <tr>\n",
       "      <th>112</th>\n",
       "      <td>10533</td>\n",
       "      <td>1</td>\n",
       "      <td>8</td>\n",
       "      <td>8</td>\n",
       "      <td>100.0</td>\n",
       "    </tr>\n",
       "    <tr>\n",
       "      <th>260</th>\n",
       "      <td>16214</td>\n",
       "      <td>1</td>\n",
       "      <td>9</td>\n",
       "      <td>9</td>\n",
       "      <td>100.0</td>\n",
       "    </tr>\n",
       "  </tbody>\n",
       "</table>\n",
       "</div>"
      ],
      "text/plain": [
       "        zip  is_fraud  Transaction count  zip_count  Transaction percentage\n",
       "1363  77027         1                  7          7                   100.0\n",
       "1315  75246         1                 11         11                   100.0\n",
       "135   11944         1                 10         10                   100.0\n",
       "1293  74108         1                 10         10                   100.0\n",
       "130   11763         1                  9          9                   100.0\n",
       "129   11747         1                 15         15                   100.0\n",
       "527   32065         1                 10         10                   100.0\n",
       "1064  61364         1                  7          7                   100.0\n",
       "446   28412         1                  9          9                   100.0\n",
       "1513  89109         1                  8          8                   100.0\n",
       "117   10954         1                 10         10                   100.0\n",
       "115   10553         1                 11         11                   100.0\n",
       "256   16041         1                  7          7                   100.0\n",
       "112   10533         1                  8          8                   100.0\n",
       "260   16214         1                  9          9                   100.0"
      ]
     },
     "execution_count": 28,
     "metadata": {},
     "output_type": "execute_result"
    }
   ],
   "source": [
    "#constructing the zip-transaction count distribution\n",
    "df_zip = df[['zip','trans_num']].groupby(['zip']).count().reset_index()\n",
    "df_zip.columns = ['zip', 'zip_count']\n",
    "\n",
    "#creating the zip-fraud distribution\n",
    "df_fraud_zip = df[['zip', 'trans_num', 'is_fraud']].groupby(['zip','is_fraud']).count().reset_index()\n",
    "df_fraud_zip.columns = ['zip', 'is_fraud', 'Transaction count']\n",
    "\n",
    "df_fraud_zip = df_fraud_zip.merge(df_zip[['zip', 'zip_count']], how='inner', on='zip')\n",
    "\n",
    "df_fraud_zip['Transaction percentage'] = (df_fraud_zip['Transaction count']/df_fraud_zip['zip_count'])*100\n",
    "\n",
    "#viewing the top 15 zip codes with high fraudulent transaction volumes\n",
    "df_fraud_zip[df_fraud_zip['is_fraud'] == 1].sort_values(by = ['Transaction percentage'], ascending=False).head(15)"
   ]
  },
  {
   "cell_type": "code",
   "execution_count": 29,
   "id": "d1662677",
   "metadata": {},
   "outputs": [
    {
     "data": {
      "image/png": "[encoded data removed]",
      "text/plain": [
       "<Figure size 640x480 with 2 Axes>"
      ]
     },
     "metadata": {},
     "output_type": "display_data"
    }
   ],
   "source": [
    "plt.subplot(1,2,1)\n",
    "plot=sns.countplot(x=pd.cut(df_fraud_zip[df_fraud_zip.is_fraud == 1]['Transaction percentage'], bins = 4))\n",
    "plot.set_xticklabels(plot.get_xticklabels(), rotation=90)\n",
    "plt.subplot(1,2,2)\n",
    "plot=sns.countplot(x=pd.cut(fraud_city[fraud_city.is_fraud == 1]['Transaction percentage'], bins = 4))\n",
    "plot.set_xticklabels(plot.get_xticklabels(), rotation=90)\n",
    "plt.show()"
   ]
  },
  {
   "cell_type": "markdown",
   "id": "220da9bc",
   "metadata": {},
   "source": [
    "cities and zip codes with more fraudulent transactions"
   ]
  },
  {
   "cell_type": "code",
   "execution_count": 31,
   "id": "898148b3",
   "metadata": {},
   "outputs": [
    {
     "name": "stdout",
     "output_type": "stream",
     "text": [
      "Cities with more than 75% fraudulent transactions:\n",
      "\n",
      "['Angwin', 'Ashland', 'Beacon', 'Brookfield', 'Bruce', 'Buellton', 'Byesville', 'Chattanooga', 'Clarion', 'Claypool', 'Clinton', 'Coulee Dam', 'Crouse', 'Downey', 'East China', 'Freeport', 'Gaines', 'Granbury', 'Greenport', 'Grenola', 'Hubbell', 'Irvington', 'Isanti', 'Kaktovik', 'Karns City', 'La Grande', 'Las Vegas', 'Lockhart', 'Madisonville', 'Marshall', 'Medford', 'Melville', 'Mineral', 'Morven', 'Moss Point', 'Mount Vernon', 'Mountain City', 'Nanuet', 'Nicholson', 'Noblesville', 'Norfolk', 'North East', 'Oakton', 'Orange Park', 'Phelps', 'Pleasant Hill', 'Queen Anne', 'Ridge Spring', 'Roland', 'Seattle', 'Streator', 'Vacaville', 'Walkertown', 'Wappapello', 'Wartburg', 'Waukau', 'West Frankfort', 'Winnsboro']\n",
      "\n",
      "\n",
      "Zip codes with more than 75% fraudulent transactions:\n",
      "\n",
      "[4032, 10018, 10533, 10553, 10954, 11747, 11763, 11944, 12207, 12508, 14532, 16041, 16214, 16428, 18446, 19947, 21657, 22124, 23117, 23523, 27051, 28033, 28119, 28412, 29129, 29180, 32065, 33762, 35896, 37307, 37411, 37683, 37887, 38915, 39562, 41101, 43723, 46060, 46510, 47842, 48054, 48436, 53045, 53559, 54980, 55040, 61364, 62896, 63966, 64080, 67346, 68375, 70065, 70447, 72135, 74108, 75246, 76048, 77027, 77038, 78208, 78644, 80019, 85201, 89109, 90240, 93427, 94508, 95688, 97850, 98105, 99116, 99747]\n"
     ]
    }
   ],
   "source": [
    "print('Cities with more than 75% fraudulent transactions:\\n')\n",
    "print(fraud_city.loc[(fraud_city.is_fraud == 1) & (fraud_city['Transaction percentage'] >= 75)].city.tolist())\n",
    "print('\\n\\nZip codes with more than 75% fraudulent transactions:\\n')\n",
    "print(df_fraud_zip.loc[(df_fraud_zip.is_fraud == 1) & (df_fraud_zip['Transaction percentage'] >= 75)].zip.tolist())"
   ]
  },
  {
   "cell_type": "markdown",
   "id": "3770d42d",
   "metadata": {},
   "source": [
    "Observation ('city' and 'zip' features):\n",
    "- From the above plot the places with high transaction frequencies can be observed.\n",
    "- It is common knowledge that these zip codes and cities are some of the busiest places in the world which justifies the transaction frequencies in these areas.\n",
    "- About 15 zip codes and 13 cities have more than 75% fraudlent transactions.\n",
    "\n",
    "Inference:\n",
    "- The people in these area can be educated about the risks associated with using credit cards with respect to frauds."
   ]
  },
  {
   "cell_type": "markdown",
   "id": "01d364f1",
   "metadata": {},
   "source": [
    "#### Exploring Job feature"
   ]
  },
  {
   "cell_type": "code",
   "execution_count": 34,
   "id": "f16fb6ea",
   "metadata": {},
   "outputs": [
    {
     "data": {
      "text/plain": [
       "494"
      ]
     },
     "execution_count": 34,
     "metadata": {},
     "output_type": "execute_result"
    }
   ],
   "source": [
    "df['job'].nunique()"
   ]
  },
  {
   "cell_type": "code",
   "execution_count": 35,
   "id": "501e9350",
   "metadata": {},
   "outputs": [
    {
     "data": {
      "text/html": [
       "<div>\n",
       "<style scoped>\n",
       "    .dataframe tbody tr th:only-of-type {\n",
       "        vertical-align: middle;\n",
       "    }\n",
       "\n",
       "    .dataframe tbody tr th {\n",
       "        vertical-align: top;\n",
       "    }\n",
       "\n",
       "    .dataframe thead th {\n",
       "        text-align: right;\n",
       "    }\n",
       "</style>\n",
       "<table border=\"1\" class=\"dataframe\">\n",
       "  <thead>\n",
       "    <tr style=\"text-align: right;\">\n",
       "      <th></th>\n",
       "      <th>job</th>\n",
       "      <th>is_fraud</th>\n",
       "      <th>Transaction count</th>\n",
       "      <th>job_count</th>\n",
       "      <th>Transaction percentage</th>\n",
       "    </tr>\n",
       "  </thead>\n",
       "  <tbody>\n",
       "    <tr>\n",
       "      <th>64</th>\n",
       "      <td>Armed forces technical officer</td>\n",
       "      <td>1</td>\n",
       "      <td>8</td>\n",
       "      <td>8</td>\n",
       "      <td>100.000000</td>\n",
       "    </tr>\n",
       "    <tr>\n",
       "      <th>318</th>\n",
       "      <td>Engineer, site</td>\n",
       "      <td>1</td>\n",
       "      <td>12</td>\n",
       "      <td>12</td>\n",
       "      <td>100.000000</td>\n",
       "    </tr>\n",
       "    <tr>\n",
       "      <th>453</th>\n",
       "      <td>Information officer</td>\n",
       "      <td>1</td>\n",
       "      <td>8</td>\n",
       "      <td>8</td>\n",
       "      <td>100.000000</td>\n",
       "    </tr>\n",
       "    <tr>\n",
       "      <th>493</th>\n",
       "      <td>Legal secretary</td>\n",
       "      <td>1</td>\n",
       "      <td>12</td>\n",
       "      <td>12</td>\n",
       "      <td>100.000000</td>\n",
       "    </tr>\n",
       "    <tr>\n",
       "      <th>450</th>\n",
       "      <td>Industrial buyer</td>\n",
       "      <td>1</td>\n",
       "      <td>10</td>\n",
       "      <td>10</td>\n",
       "      <td>100.000000</td>\n",
       "    </tr>\n",
       "    <tr>\n",
       "      <th>111</th>\n",
       "      <td>Careers adviser</td>\n",
       "      <td>1</td>\n",
       "      <td>15</td>\n",
       "      <td>15</td>\n",
       "      <td>100.000000</td>\n",
       "    </tr>\n",
       "    <tr>\n",
       "      <th>421</th>\n",
       "      <td>Homeopath</td>\n",
       "      <td>1</td>\n",
       "      <td>11</td>\n",
       "      <td>11</td>\n",
       "      <td>100.000000</td>\n",
       "    </tr>\n",
       "    <tr>\n",
       "      <th>94</th>\n",
       "      <td>Broadcast journalist</td>\n",
       "      <td>1</td>\n",
       "      <td>9</td>\n",
       "      <td>9</td>\n",
       "      <td>100.000000</td>\n",
       "    </tr>\n",
       "    <tr>\n",
       "      <th>619</th>\n",
       "      <td>Personnel officer</td>\n",
       "      <td>1</td>\n",
       "      <td>12</td>\n",
       "      <td>12</td>\n",
       "      <td>100.000000</td>\n",
       "    </tr>\n",
       "    <tr>\n",
       "      <th>374</th>\n",
       "      <td>Forest/woodland manager</td>\n",
       "      <td>1</td>\n",
       "      <td>9</td>\n",
       "      <td>9</td>\n",
       "      <td>100.000000</td>\n",
       "    </tr>\n",
       "    <tr>\n",
       "      <th>758</th>\n",
       "      <td>Sales promotion account executive</td>\n",
       "      <td>1</td>\n",
       "      <td>14</td>\n",
       "      <td>14</td>\n",
       "      <td>100.000000</td>\n",
       "    </tr>\n",
       "    <tr>\n",
       "      <th>39</th>\n",
       "      <td>Air traffic controller</td>\n",
       "      <td>1</td>\n",
       "      <td>17</td>\n",
       "      <td>17</td>\n",
       "      <td>100.000000</td>\n",
       "    </tr>\n",
       "    <tr>\n",
       "      <th>198</th>\n",
       "      <td>Contracting civil engineer</td>\n",
       "      <td>1</td>\n",
       "      <td>7</td>\n",
       "      <td>7</td>\n",
       "      <td>100.000000</td>\n",
       "    </tr>\n",
       "    <tr>\n",
       "      <th>787</th>\n",
       "      <td>Ship broker</td>\n",
       "      <td>1</td>\n",
       "      <td>7</td>\n",
       "      <td>7</td>\n",
       "      <td>100.000000</td>\n",
       "    </tr>\n",
       "    <tr>\n",
       "      <th>795</th>\n",
       "      <td>Solicitor</td>\n",
       "      <td>1</td>\n",
       "      <td>11</td>\n",
       "      <td>11</td>\n",
       "      <td>100.000000</td>\n",
       "    </tr>\n",
       "    <tr>\n",
       "      <th>2</th>\n",
       "      <td>Accountant, chartered</td>\n",
       "      <td>1</td>\n",
       "      <td>11</td>\n",
       "      <td>11</td>\n",
       "      <td>100.000000</td>\n",
       "    </tr>\n",
       "    <tr>\n",
       "      <th>218</th>\n",
       "      <td>Dancer</td>\n",
       "      <td>1</td>\n",
       "      <td>19</td>\n",
       "      <td>19</td>\n",
       "      <td>100.000000</td>\n",
       "    </tr>\n",
       "    <tr>\n",
       "      <th>906</th>\n",
       "      <td>Warehouse manager</td>\n",
       "      <td>1</td>\n",
       "      <td>7</td>\n",
       "      <td>7</td>\n",
       "      <td>100.000000</td>\n",
       "    </tr>\n",
       "    <tr>\n",
       "      <th>898</th>\n",
       "      <td>Veterinary surgeon</td>\n",
       "      <td>1</td>\n",
       "      <td>8</td>\n",
       "      <td>8</td>\n",
       "      <td>100.000000</td>\n",
       "    </tr>\n",
       "    <tr>\n",
       "      <th>484</th>\n",
       "      <td>Lawyer</td>\n",
       "      <td>1</td>\n",
       "      <td>28</td>\n",
       "      <td>540</td>\n",
       "      <td>5.185185</td>\n",
       "    </tr>\n",
       "  </tbody>\n",
       "</table>\n",
       "</div>"
      ],
      "text/plain": [
       "                                   job  is_fraud  Transaction count  \\\n",
       "64      Armed forces technical officer         1                  8   \n",
       "318                     Engineer, site         1                 12   \n",
       "453                Information officer         1                  8   \n",
       "493                    Legal secretary         1                 12   \n",
       "450                   Industrial buyer         1                 10   \n",
       "111                    Careers adviser         1                 15   \n",
       "421                          Homeopath         1                 11   \n",
       "94                Broadcast journalist         1                  9   \n",
       "619                  Personnel officer         1                 12   \n",
       "374            Forest/woodland manager         1                  9   \n",
       "758  Sales promotion account executive         1                 14   \n",
       "39              Air traffic controller         1                 17   \n",
       "198         Contracting civil engineer         1                  7   \n",
       "787                        Ship broker         1                  7   \n",
       "795                          Solicitor         1                 11   \n",
       "2                Accountant, chartered         1                 11   \n",
       "218                             Dancer         1                 19   \n",
       "906                  Warehouse manager         1                  7   \n",
       "898                 Veterinary surgeon         1                  8   \n",
       "484                             Lawyer         1                 28   \n",
       "\n",
       "     job_count  Transaction percentage  \n",
       "64           8              100.000000  \n",
       "318         12              100.000000  \n",
       "453          8              100.000000  \n",
       "493         12              100.000000  \n",
       "450         10              100.000000  \n",
       "111         15              100.000000  \n",
       "421         11              100.000000  \n",
       "94           9              100.000000  \n",
       "619         12              100.000000  \n",
       "374          9              100.000000  \n",
       "758         14              100.000000  \n",
       "39          17              100.000000  \n",
       "198          7              100.000000  \n",
       "787          7              100.000000  \n",
       "795         11              100.000000  \n",
       "2           11              100.000000  \n",
       "218         19              100.000000  \n",
       "906          7              100.000000  \n",
       "898          8              100.000000  \n",
       "484        540                5.185185  "
      ]
     },
     "execution_count": 35,
     "metadata": {},
     "output_type": "execute_result"
    }
   ],
   "source": [
    "#constructing the zip-transaction count distribution\n",
    "df_job = df[['job','trans_num']].groupby(['job']).count().reset_index()\n",
    "df_job.columns = ['job', 'job_count']\n",
    "\n",
    "#creating the zip-fraud distribution\n",
    "df_fraud_job = df[['job', 'trans_num', 'is_fraud']].groupby(['job','is_fraud']).count().reset_index()\n",
    "df_fraud_job.columns = ['job', 'is_fraud', 'Transaction count']\n",
    "\n",
    "df_fraud_job = df_fraud_job.merge(df_job[['job', 'job_count']], how='inner', on='job')\n",
    "\n",
    "df_fraud_job['Transaction percentage'] = (df_fraud_job['Transaction count']/df_fraud_job['job_count'])*100\n",
    "\n",
    "#viewing the top 20 jobs with high fraudulent transaction volumes\n",
    "df_fraud_job[df_fraud_job['is_fraud'] == 1].sort_values(by = ['Transaction percentage'], ascending=False).head(20)"
   ]
  },
  {
   "cell_type": "code",
   "execution_count": 36,
   "id": "f1250ae6",
   "metadata": {},
   "outputs": [
    {
     "data": {
      "image/png": "[encoded data removed]",
      "text/plain": [
       "<Figure size 640x480 with 1 Axes>"
      ]
     },
     "metadata": {},
     "output_type": "display_data"
    }
   ],
   "source": [
    "plot = sns.countplot(x=pd.cut(df_fraud_job[df_fraud_job.is_fraud == 1]['Transaction percentage'], bins = 2))\n",
    "plot.set_xticklabels(plot.get_xticklabels(), rotation = 90)\n",
    "plt.show()"
   ]
  },
  {
   "cell_type": "markdown",
   "id": "2fe76768",
   "metadata": {},
   "source": [
    "Job with fraudulent transactions"
   ]
  },
  {
   "cell_type": "code",
   "execution_count": 38,
   "id": "ecc8f5ee",
   "metadata": {},
   "outputs": [
    {
     "data": {
      "text/plain": [
       "2                  Accountant, chartered\n",
       "39                Air traffic controller\n",
       "64        Armed forces technical officer\n",
       "94                  Broadcast journalist\n",
       "111                      Careers adviser\n",
       "198           Contracting civil engineer\n",
       "218                               Dancer\n",
       "318                       Engineer, site\n",
       "374              Forest/woodland manager\n",
       "421                            Homeopath\n",
       "450                     Industrial buyer\n",
       "453                  Information officer\n",
       "493                      Legal secretary\n",
       "619                    Personnel officer\n",
       "758    Sales promotion account executive\n",
       "787                          Ship broker\n",
       "795                            Solicitor\n",
       "898                   Veterinary surgeon\n",
       "906                    Warehouse manager\n",
       "Name: job, dtype: object"
      ]
     },
     "execution_count": 38,
     "metadata": {},
     "output_type": "execute_result"
    }
   ],
   "source": [
    "df_fraud_job.loc[(df_fraud_job.is_fraud == 1) & (df_fraud_job['Transaction percentage'] >= 50)].job"
   ]
  },
  {
   "cell_type": "markdown",
   "id": "43177389",
   "metadata": {},
   "source": [
    "Observation:\n",
    "- The above are the jobs where fraud transaction frequencies have been noted. \n",
    "- Transaction contains the job feature value as - Engineer, water, Operational investment banker, Software engineer.\n",
    "\n",
    "Inference:\n",
    "\n",
    "- The people in the jobs with high number of fraudulent transactions can be alerted about the credit card transaction frauds so that they can be more carefull while using their credit cards."
   ]
  },
  {
   "cell_type": "markdown",
   "id": "5171d605",
   "metadata": {},
   "source": [
    "#### Exploring Category data"
   ]
  },
  {
   "cell_type": "code",
   "execution_count": 41,
   "id": "ad643daf",
   "metadata": {},
   "outputs": [
    {
     "data": {
      "text/plain": [
       "category\n",
       "gas_transport     131659\n",
       "grocery_pos       123638\n",
       "home              123115\n",
       "shopping_pos      116672\n",
       "kids_pets         113035\n",
       "shopping_net       97543\n",
       "entertainment      94014\n",
       "food_dining        91461\n",
       "personal_care      90758\n",
       "health_fitness     85879\n",
       "misc_pos           79655\n",
       "misc_net           63287\n",
       "grocery_net        45452\n",
       "travel             40507\n",
       "Name: count, dtype: int64"
      ]
     },
     "execution_count": 41,
     "metadata": {},
     "output_type": "execute_result"
    }
   ],
   "source": [
    "df.category.value_counts()"
   ]
  },
  {
   "cell_type": "code",
   "execution_count": 42,
   "id": "c3a8c91e",
   "metadata": {},
   "outputs": [
    {
     "data": {
      "image/png": "[encoded data removed]",
      "text/plain": [
       "<Figure size 640x480 with 1 Axes>"
      ]
     },
     "metadata": {},
     "output_type": "display_data"
    }
   ],
   "source": [
    "plot = sns.countplot(x='category', data=df, hue=df[\"is_fraud\"].astype(\"str\"))\n",
    "plot.set_xticklabels(plot.get_xticklabels(), rotation=90)\n",
    "plt.show()"
   ]
  },
  {
   "cell_type": "code",
   "execution_count": 43,
   "id": "80d33278",
   "metadata": {},
   "outputs": [
    {
     "data": {
      "text/html": [
       "<div>\n",
       "<style scoped>\n",
       "    .dataframe tbody tr th:only-of-type {\n",
       "        vertical-align: middle;\n",
       "    }\n",
       "\n",
       "    .dataframe tbody tr th {\n",
       "        vertical-align: top;\n",
       "    }\n",
       "\n",
       "    .dataframe thead th {\n",
       "        text-align: right;\n",
       "    }\n",
       "</style>\n",
       "<table border=\"1\" class=\"dataframe\">\n",
       "  <thead>\n",
       "    <tr style=\"text-align: right;\">\n",
       "      <th></th>\n",
       "      <th>category</th>\n",
       "      <th>is_fraud</th>\n",
       "      <th>Transaction count</th>\n",
       "      <th>category_count</th>\n",
       "      <th>Transaction percentage</th>\n",
       "    </tr>\n",
       "  </thead>\n",
       "  <tbody>\n",
       "    <tr>\n",
       "      <th>23</th>\n",
       "      <td>shopping_net</td>\n",
       "      <td>1</td>\n",
       "      <td>1713</td>\n",
       "      <td>97543</td>\n",
       "      <td>1.756149</td>\n",
       "    </tr>\n",
       "    <tr>\n",
       "      <th>17</th>\n",
       "      <td>misc_net</td>\n",
       "      <td>1</td>\n",
       "      <td>915</td>\n",
       "      <td>63287</td>\n",
       "      <td>1.445795</td>\n",
       "    </tr>\n",
       "    <tr>\n",
       "      <th>9</th>\n",
       "      <td>grocery_pos</td>\n",
       "      <td>1</td>\n",
       "      <td>1743</td>\n",
       "      <td>123638</td>\n",
       "      <td>1.409761</td>\n",
       "    </tr>\n",
       "    <tr>\n",
       "      <th>25</th>\n",
       "      <td>shopping_pos</td>\n",
       "      <td>1</td>\n",
       "      <td>843</td>\n",
       "      <td>116672</td>\n",
       "      <td>0.722538</td>\n",
       "    </tr>\n",
       "    <tr>\n",
       "      <th>5</th>\n",
       "      <td>gas_transport</td>\n",
       "      <td>1</td>\n",
       "      <td>618</td>\n",
       "      <td>131659</td>\n",
       "      <td>0.469394</td>\n",
       "    </tr>\n",
       "    <tr>\n",
       "      <th>19</th>\n",
       "      <td>misc_pos</td>\n",
       "      <td>1</td>\n",
       "      <td>250</td>\n",
       "      <td>79655</td>\n",
       "      <td>0.313853</td>\n",
       "    </tr>\n",
       "    <tr>\n",
       "      <th>7</th>\n",
       "      <td>grocery_net</td>\n",
       "      <td>1</td>\n",
       "      <td>134</td>\n",
       "      <td>45452</td>\n",
       "      <td>0.294817</td>\n",
       "    </tr>\n",
       "    <tr>\n",
       "      <th>27</th>\n",
       "      <td>travel</td>\n",
       "      <td>1</td>\n",
       "      <td>116</td>\n",
       "      <td>40507</td>\n",
       "      <td>0.286370</td>\n",
       "    </tr>\n",
       "    <tr>\n",
       "      <th>1</th>\n",
       "      <td>entertainment</td>\n",
       "      <td>1</td>\n",
       "      <td>233</td>\n",
       "      <td>94014</td>\n",
       "      <td>0.247835</td>\n",
       "    </tr>\n",
       "    <tr>\n",
       "      <th>21</th>\n",
       "      <td>personal_care</td>\n",
       "      <td>1</td>\n",
       "      <td>220</td>\n",
       "      <td>90758</td>\n",
       "      <td>0.242403</td>\n",
       "    </tr>\n",
       "    <tr>\n",
       "      <th>15</th>\n",
       "      <td>kids_pets</td>\n",
       "      <td>1</td>\n",
       "      <td>239</td>\n",
       "      <td>113035</td>\n",
       "      <td>0.211439</td>\n",
       "    </tr>\n",
       "    <tr>\n",
       "      <th>3</th>\n",
       "      <td>food_dining</td>\n",
       "      <td>1</td>\n",
       "      <td>151</td>\n",
       "      <td>91461</td>\n",
       "      <td>0.165098</td>\n",
       "    </tr>\n",
       "    <tr>\n",
       "      <th>13</th>\n",
       "      <td>home</td>\n",
       "      <td>1</td>\n",
       "      <td>198</td>\n",
       "      <td>123115</td>\n",
       "      <td>0.160825</td>\n",
       "    </tr>\n",
       "    <tr>\n",
       "      <th>11</th>\n",
       "      <td>health_fitness</td>\n",
       "      <td>1</td>\n",
       "      <td>133</td>\n",
       "      <td>85879</td>\n",
       "      <td>0.154869</td>\n",
       "    </tr>\n",
       "  </tbody>\n",
       "</table>\n",
       "</div>"
      ],
      "text/plain": [
       "          category  is_fraud  Transaction count  category_count  \\\n",
       "23    shopping_net         1               1713           97543   \n",
       "17        misc_net         1                915           63287   \n",
       "9      grocery_pos         1               1743          123638   \n",
       "25    shopping_pos         1                843          116672   \n",
       "5    gas_transport         1                618          131659   \n",
       "19        misc_pos         1                250           79655   \n",
       "7      grocery_net         1                134           45452   \n",
       "27          travel         1                116           40507   \n",
       "1    entertainment         1                233           94014   \n",
       "21   personal_care         1                220           90758   \n",
       "15       kids_pets         1                239          113035   \n",
       "3      food_dining         1                151           91461   \n",
       "13            home         1                198          123115   \n",
       "11  health_fitness         1                133           85879   \n",
       "\n",
       "    Transaction percentage  \n",
       "23                1.756149  \n",
       "17                1.445795  \n",
       "9                 1.409761  \n",
       "25                0.722538  \n",
       "5                 0.469394  \n",
       "19                0.313853  \n",
       "7                 0.294817  \n",
       "27                0.286370  \n",
       "1                 0.247835  \n",
       "21                0.242403  \n",
       "15                0.211439  \n",
       "3                 0.165098  \n",
       "13                0.160825  \n",
       "11                0.154869  "
      ]
     },
     "execution_count": 43,
     "metadata": {},
     "output_type": "execute_result"
    }
   ],
   "source": [
    "#constructing the category-transaction count distribution\n",
    "df_category = df[['category','trans_num']].groupby(['category']).count().reset_index()\n",
    "df_category.columns = ['category', 'category_count']\n",
    "\n",
    "#creating the zip-fraud distribution\n",
    "df_fraud_category = df[['category', 'trans_num', 'is_fraud']].groupby(['category','is_fraud']).count().reset_index()\n",
    "df_fraud_category.columns = ['category', 'is_fraud', 'Transaction count']\n",
    "\n",
    "df_fraud_category = df_fraud_category.merge(df_category[['category', 'category_count']], how='inner', on='category')\n",
    "\n",
    "df_fraud_category['Transaction percentage'] = (df_fraud_category['Transaction count']/df_fraud_category['category_count'])*100\n",
    "\n",
    "#viewing the top categories with high fraudulent transaction volumes\n",
    "df_fraud_category[df_fraud_category['is_fraud'] == 1].sort_values(by = ['Transaction percentage'], ascending=False)"
   ]
  },
  {
   "cell_type": "code",
   "execution_count": 44,
   "id": "e08b8202",
   "metadata": {},
   "outputs": [
    {
     "data": {
      "image/png": "[encoded data removed]",
      "text/plain": [
       "<Figure size 640x480 with 1 Axes>"
      ]
     },
     "metadata": {},
     "output_type": "display_data"
    }
   ],
   "source": [
    "plot = sns.countplot(x=pd.cut(df_fraud_category[df_fraud_category.is_fraud == 1]['Transaction percentage'], bins = 2))\n",
    "plot.set_xticklabels(plot.get_xticklabels(), rotation = 90)\n",
    "plt.show()"
   ]
  },
  {
   "cell_type": "markdown",
   "id": "329dcbde",
   "metadata": {},
   "source": [
    "Category with fraudulent transactions"
   ]
  },
  {
   "cell_type": "code",
   "execution_count": 46,
   "id": "1c955768",
   "metadata": {},
   "outputs": [
    {
     "data": {
      "text/plain": [
       "9      grocery_pos\n",
       "17        misc_net\n",
       "23    shopping_net\n",
       "Name: category, dtype: object"
      ]
     },
     "execution_count": 46,
     "metadata": {},
     "output_type": "execute_result"
    }
   ],
   "source": [
    "df_fraud_category.loc[(df_fraud_category.is_fraud == 1) & (df_fraud_category['Transaction percentage'] >= 1)].category"
   ]
  },
  {
   "cell_type": "markdown",
   "id": "6c76a664",
   "metadata": {},
   "source": [
    "Observation:\n",
    "- Out of All categories shopping_net category has the most number of fraudulent transactions.\n"
   ]
  },
  {
   "cell_type": "markdown",
   "id": "9dc8f367",
   "metadata": {},
   "source": [
    "#### Exploring Merchant data"
   ]
  },
  {
   "cell_type": "code",
   "execution_count": 49,
   "id": "d4af2e15",
   "metadata": {},
   "outputs": [
    {
     "data": {
      "text/plain": [
       "693"
      ]
     },
     "execution_count": 49,
     "metadata": {},
     "output_type": "execute_result"
    }
   ],
   "source": [
    "df['merchant'].nunique()"
   ]
  },
  {
   "cell_type": "code",
   "execution_count": 50,
   "id": "c0d9a348",
   "metadata": {},
   "outputs": [
    {
     "data": {
      "text/html": [
       "<div>\n",
       "<style scoped>\n",
       "    .dataframe tbody tr th:only-of-type {\n",
       "        vertical-align: middle;\n",
       "    }\n",
       "\n",
       "    .dataframe tbody tr th {\n",
       "        vertical-align: top;\n",
       "    }\n",
       "\n",
       "    .dataframe thead th {\n",
       "        text-align: right;\n",
       "    }\n",
       "</style>\n",
       "<table border=\"1\" class=\"dataframe\">\n",
       "  <thead>\n",
       "    <tr style=\"text-align: right;\">\n",
       "      <th></th>\n",
       "      <th>merchant</th>\n",
       "      <th>is_fraud</th>\n",
       "      <th>Transaction count</th>\n",
       "      <th>merchant_count</th>\n",
       "      <th>Transaction percentage</th>\n",
       "    </tr>\n",
       "  </thead>\n",
       "  <tbody>\n",
       "    <tr>\n",
       "      <th>672</th>\n",
       "      <td>fraud_Kozey-Boehm</td>\n",
       "      <td>1</td>\n",
       "      <td>48</td>\n",
       "      <td>1866</td>\n",
       "      <td>2.572347</td>\n",
       "    </tr>\n",
       "    <tr>\n",
       "      <th>489</th>\n",
       "      <td>fraud_Herman, Treutel and Dickens</td>\n",
       "      <td>1</td>\n",
       "      <td>33</td>\n",
       "      <td>1300</td>\n",
       "      <td>2.538462</td>\n",
       "    </tr>\n",
       "    <tr>\n",
       "      <th>606</th>\n",
       "      <td>fraud_Kerluke-Abshire</td>\n",
       "      <td>1</td>\n",
       "      <td>41</td>\n",
       "      <td>1838</td>\n",
       "      <td>2.230686</td>\n",
       "    </tr>\n",
       "    <tr>\n",
       "      <th>159</th>\n",
       "      <td>fraud_Brown PLC</td>\n",
       "      <td>1</td>\n",
       "      <td>26</td>\n",
       "      <td>1176</td>\n",
       "      <td>2.210884</td>\n",
       "    </tr>\n",
       "    <tr>\n",
       "      <th>400</th>\n",
       "      <td>fraud_Goyette Inc</td>\n",
       "      <td>1</td>\n",
       "      <td>42</td>\n",
       "      <td>1943</td>\n",
       "      <td>2.161606</td>\n",
       "    </tr>\n",
       "    <tr>\n",
       "      <th>1220</th>\n",
       "      <td>fraud_Terry-Huel</td>\n",
       "      <td>1</td>\n",
       "      <td>43</td>\n",
       "      <td>1996</td>\n",
       "      <td>2.154309</td>\n",
       "    </tr>\n",
       "    <tr>\n",
       "      <th>562</th>\n",
       "      <td>fraud_Jast Ltd</td>\n",
       "      <td>1</td>\n",
       "      <td>42</td>\n",
       "      <td>1953</td>\n",
       "      <td>2.150538</td>\n",
       "    </tr>\n",
       "    <tr>\n",
       "      <th>1100</th>\n",
       "      <td>fraud_Schmeler, Bashirian and Price</td>\n",
       "      <td>1</td>\n",
       "      <td>41</td>\n",
       "      <td>1968</td>\n",
       "      <td>2.083333</td>\n",
       "    </tr>\n",
       "    <tr>\n",
       "      <th>145</th>\n",
       "      <td>fraud_Boyer-Reichert</td>\n",
       "      <td>1</td>\n",
       "      <td>38</td>\n",
       "      <td>1908</td>\n",
       "      <td>1.991614</td>\n",
       "    </tr>\n",
       "    <tr>\n",
       "      <th>742</th>\n",
       "      <td>fraud_Langworth, Boehm and Gulgowski</td>\n",
       "      <td>1</td>\n",
       "      <td>39</td>\n",
       "      <td>1969</td>\n",
       "      <td>1.980701</td>\n",
       "    </tr>\n",
       "    <tr>\n",
       "      <th>864</th>\n",
       "      <td>fraud_Moore, Dibbert and Koepp</td>\n",
       "      <td>1</td>\n",
       "      <td>25</td>\n",
       "      <td>1266</td>\n",
       "      <td>1.974724</td>\n",
       "    </tr>\n",
       "    <tr>\n",
       "      <th>63</th>\n",
       "      <td>fraud_Baumbach, Feeney and Morar</td>\n",
       "      <td>1</td>\n",
       "      <td>38</td>\n",
       "      <td>1929</td>\n",
       "      <td>1.969933</td>\n",
       "    </tr>\n",
       "    <tr>\n",
       "      <th>981</th>\n",
       "      <td>fraud_Rau and Sons</td>\n",
       "      <td>1</td>\n",
       "      <td>49</td>\n",
       "      <td>2490</td>\n",
       "      <td>1.967871</td>\n",
       "    </tr>\n",
       "    <tr>\n",
       "      <th>386</th>\n",
       "      <td>fraud_Gleason-Macejkovic</td>\n",
       "      <td>1</td>\n",
       "      <td>40</td>\n",
       "      <td>2033</td>\n",
       "      <td>1.967536</td>\n",
       "    </tr>\n",
       "    <tr>\n",
       "      <th>690</th>\n",
       "      <td>fraud_Kuhic LLC</td>\n",
       "      <td>1</td>\n",
       "      <td>39</td>\n",
       "      <td>1985</td>\n",
       "      <td>1.964736</td>\n",
       "    </tr>\n",
       "    <tr>\n",
       "      <th>692</th>\n",
       "      <td>fraud_Kuhic, Bins and Pfeffer</td>\n",
       "      <td>1</td>\n",
       "      <td>39</td>\n",
       "      <td>2003</td>\n",
       "      <td>1.947079</td>\n",
       "    </tr>\n",
       "    <tr>\n",
       "      <th>967</th>\n",
       "      <td>fraud_Price Inc</td>\n",
       "      <td>1</td>\n",
       "      <td>38</td>\n",
       "      <td>1983</td>\n",
       "      <td>1.916288</td>\n",
       "    </tr>\n",
       "    <tr>\n",
       "      <th>1234</th>\n",
       "      <td>fraud_Tillman, Fritsch and Schmitt</td>\n",
       "      <td>1</td>\n",
       "      <td>25</td>\n",
       "      <td>1307</td>\n",
       "      <td>1.912777</td>\n",
       "    </tr>\n",
       "    <tr>\n",
       "      <th>1278</th>\n",
       "      <td>fraud_Vandervort-Funk</td>\n",
       "      <td>1</td>\n",
       "      <td>47</td>\n",
       "      <td>2474</td>\n",
       "      <td>1.899757</td>\n",
       "    </tr>\n",
       "    <tr>\n",
       "      <th>299</th>\n",
       "      <td>fraud_Durgan-Auer</td>\n",
       "      <td>1</td>\n",
       "      <td>24</td>\n",
       "      <td>1283</td>\n",
       "      <td>1.870616</td>\n",
       "    </tr>\n",
       "  </tbody>\n",
       "</table>\n",
       "</div>"
      ],
      "text/plain": [
       "                                  merchant  is_fraud  Transaction count  \\\n",
       "672                      fraud_Kozey-Boehm         1                 48   \n",
       "489      fraud_Herman, Treutel and Dickens         1                 33   \n",
       "606                  fraud_Kerluke-Abshire         1                 41   \n",
       "159                        fraud_Brown PLC         1                 26   \n",
       "400                      fraud_Goyette Inc         1                 42   \n",
       "1220                      fraud_Terry-Huel         1                 43   \n",
       "562                         fraud_Jast Ltd         1                 42   \n",
       "1100   fraud_Schmeler, Bashirian and Price         1                 41   \n",
       "145                   fraud_Boyer-Reichert         1                 38   \n",
       "742   fraud_Langworth, Boehm and Gulgowski         1                 39   \n",
       "864         fraud_Moore, Dibbert and Koepp         1                 25   \n",
       "63        fraud_Baumbach, Feeney and Morar         1                 38   \n",
       "981                     fraud_Rau and Sons         1                 49   \n",
       "386               fraud_Gleason-Macejkovic         1                 40   \n",
       "690                        fraud_Kuhic LLC         1                 39   \n",
       "692          fraud_Kuhic, Bins and Pfeffer         1                 39   \n",
       "967                        fraud_Price Inc         1                 38   \n",
       "1234    fraud_Tillman, Fritsch and Schmitt         1                 25   \n",
       "1278                 fraud_Vandervort-Funk         1                 47   \n",
       "299                      fraud_Durgan-Auer         1                 24   \n",
       "\n",
       "      merchant_count  Transaction percentage  \n",
       "672             1866                2.572347  \n",
       "489             1300                2.538462  \n",
       "606             1838                2.230686  \n",
       "159             1176                2.210884  \n",
       "400             1943                2.161606  \n",
       "1220            1996                2.154309  \n",
       "562             1953                2.150538  \n",
       "1100            1968                2.083333  \n",
       "145             1908                1.991614  \n",
       "742             1969                1.980701  \n",
       "864             1266                1.974724  \n",
       "63              1929                1.969933  \n",
       "981             2490                1.967871  \n",
       "386             2033                1.967536  \n",
       "690             1985                1.964736  \n",
       "692             2003                1.947079  \n",
       "967             1983                1.916288  \n",
       "1234            1307                1.912777  \n",
       "1278            2474                1.899757  \n",
       "299             1283                1.870616  "
      ]
     },
     "execution_count": 50,
     "metadata": {},
     "output_type": "execute_result"
    }
   ],
   "source": [
    "#constructing the merchant-transaction count distribution\n",
    "df_merchant = df[['merchant','trans_num']].groupby(['merchant']).count().reset_index()\n",
    "df_merchant.columns = ['merchant', 'merchant_count']\n",
    "\n",
    "#creating the zip-fraud distribution\n",
    "df_fraud_merchant = df[['merchant', 'trans_num', 'is_fraud']].groupby(['merchant','is_fraud']).count().reset_index()\n",
    "df_fraud_merchant.columns = ['merchant', 'is_fraud', 'Transaction count']\n",
    "\n",
    "df_fraud_merchant = df_fraud_merchant.merge(df_merchant[['merchant', 'merchant_count']], how='inner', on='merchant')\n",
    "\n",
    "df_fraud_merchant['Transaction percentage'] = (df_fraud_merchant['Transaction count']/df_fraud_merchant['merchant_count'])*100\n",
    "\n",
    "#viewing the top 20 merchant with high fraudulent transaction volumes\n",
    "df_fraud_merchant[df_fraud_merchant['is_fraud'] == 1].sort_values(by = ['Transaction percentage'], ascending=False).head(20)"
   ]
  },
  {
   "cell_type": "code",
   "execution_count": 51,
   "id": "23c73332",
   "metadata": {},
   "outputs": [
    {
     "data": {
      "image/png": "[encoded data removed]",
      "text/plain": [
       "<Figure size 640x480 with 1 Axes>"
      ]
     },
     "metadata": {},
     "output_type": "display_data"
    }
   ],
   "source": [
    "plot = sns.countplot(x=pd.cut(df_fraud_merchant[df_fraud_merchant.is_fraud == 1]['Transaction percentage'], bins = 2))\n",
    "plot.set_xticklabels(plot.get_xticklabels(), rotation = 90)\n",
    "plt.show()"
   ]
  },
  {
   "cell_type": "markdown",
   "id": "0c96d345",
   "metadata": {},
   "source": [
    "number of merchants with more than one percent fraudulent transactions"
   ]
  },
  {
   "cell_type": "code",
   "execution_count": 53,
   "id": "14f0a600",
   "metadata": {},
   "outputs": [
    {
     "data": {
      "text/plain": [
       "145"
      ]
     },
     "execution_count": 53,
     "metadata": {},
     "output_type": "execute_result"
    }
   ],
   "source": [
    "len(df_fraud_merchant.loc[(df_fraud_merchant.is_fraud == 1) & (df_fraud_merchant['Transaction percentage'] >= 1)].merchant)"
   ]
  },
  {
   "cell_type": "markdown",
   "id": "9eb5909b",
   "metadata": {},
   "source": [
    "Names of merchants with more than one percent fraudulent transactions"
   ]
  },
  {
   "cell_type": "code",
   "execution_count": 55,
   "id": "f8d7144e",
   "metadata": {},
   "outputs": [
    {
     "data": {
      "text/plain": [
       "159                         fraud_Brown PLC\n",
       "400                       fraud_Goyette Inc\n",
       "489       fraud_Herman, Treutel and Dickens\n",
       "562                          fraud_Jast Ltd\n",
       "606                   fraud_Kerluke-Abshire\n",
       "672                       fraud_Kozey-Boehm\n",
       "1100    fraud_Schmeler, Bashirian and Price\n",
       "1220                       fraud_Terry-Huel\n",
       "Name: merchant, dtype: object"
      ]
     },
     "execution_count": 55,
     "metadata": {},
     "output_type": "execute_result"
    }
   ],
   "source": [
    "df_fraud_merchant.loc[(df_fraud_merchant.is_fraud == 1) & (df_fraud_merchant['Transaction percentage'] >= 2)].merchant"
   ]
  },
  {
   "cell_type": "markdown",
   "id": "abbc3eb5",
   "metadata": {},
   "source": [
    "Observation:\n",
    "- From the above plots and dataframes created, it can be observed that aboout 69 merchants have more than 1% transactions associated with them as fraudulent transactions.\n",
    "\n",
    "Inference:\n",
    "\n",
    "- The aforementioned merchants can be checked for fraudulent practices. They also can be alerted about the fraudulent practices happening and be educated about how to avoid them."
   ]
  },
  {
   "cell_type": "markdown",
   "id": "7dec5c7f",
   "metadata": {},
   "source": [
    "**Now that we are done with the EDA process we will now proceed with creating the dummy variables and encoding the features where ever require in our dataset**"
   ]
  },
  {
   "cell_type": "markdown",
   "id": "331c66f6",
   "metadata": {},
   "source": [
    "Checking the correlations between the columns"
   ]
  },
  {
   "cell_type": "code",
   "execution_count": 59,
   "id": "e697dbba",
   "metadata": {},
   "outputs": [
    {
     "data": {
      "image/png": "[encoded data removed]",
      "text/plain": [
       "<Figure size 1500x1500 with 2 Axes>"
      ]
     },
     "metadata": {},
     "output_type": "display_data"
    }
   ],
   "source": [
    "df_random_under_corr = df.corr(numeric_only=True)\n",
    "plt.figure(figsize=(15,15))\n",
    "sns.heatmap(df_random_under_corr)\n",
    "plt.show()"
   ]
  },
  {
   "cell_type": "markdown",
   "id": "ebeacd0a",
   "metadata": {},
   "source": [
    "Now, since there are a lot of variables let us get the variables that have high correlation using a function that outputs the variables with correlation between them above a certain threshold."
   ]
  },
  {
   "cell_type": "code",
   "execution_count": 61,
   "id": "11484e01",
   "metadata": {},
   "outputs": [
    {
     "data": {
      "text/plain": [
       "{'merch_lat', 'merch_long', 'unix_time'}"
      ]
     },
     "execution_count": 61,
     "metadata": {},
     "output_type": "execute_result"
    }
   ],
   "source": [
    "def correlation(dataset, threshold):\n",
    "    col_corr = set() # This set stores the highly correlated columns\n",
    "    corr_matrix = dataset.corr(numeric_only=True) #correlation matrix\n",
    "    #traversing the correlation matrix\n",
    "    for i in range(len(corr_matrix.columns)):\n",
    "        for j in range(i):\n",
    "            if corr_matrix.iloc[i,j] > threshold:\n",
    "                colname = corr_matrix.columns[i] #selecting columns above threshold\n",
    "                col_corr.add(colname) #adding columns to set\n",
    "    return col_corr\n",
    "corr_features = correlation(df,0.85)\n",
    "corr_features"
   ]
  },
  {
   "cell_type": "markdown",
   "id": "df5d591d",
   "metadata": {},
   "source": [
    "As it can be seen, there are no features that have a correlation of above 85%. Hence, it is safe to proceed with out model building."
   ]
  },
  {
   "cell_type": "markdown",
   "id": "e46669eb",
   "metadata": {},
   "source": [
    "# Model Development"
   ]
  },
  {
   "cell_type": "code",
   "execution_count": 64,
   "id": "314658d9-7552-463a-b5e4-001de137984c",
   "metadata": {},
   "outputs": [],
   "source": [
    "def drop_cols(data):\n",
    "    data.drop(['Unnamed: 0','zip', 'lat', 'long', 'city_pop', 'unix_time', 'merch_lat','merch_long','trans_date_trans_time','dob','first','last','cc_num', 'trans_num','street','city'],axis=1,inplace=True)\n",
    "    return data"
   ]
  },
  {
   "cell_type": "code",
   "execution_count": 65,
   "id": "0a08466f-2dec-490a-a74e-f506e58b2220",
   "metadata": {},
   "outputs": [],
   "source": [
    "def encoding(data):\n",
    "    le=LabelEncoder()\n",
    "    data['merchant']=le.fit_transform(data['merchant'])\n",
    "    data['job']=le.fit_transform(data['job'])\n",
    "    data['category']=le.fit_transform(data['category'])\n",
    "    data['gender']=le.fit_transform(data['gender'])\n",
    "    data['trans_day']=le.fit_transform(data['trans_day'])\n",
    "    data['state']=le.fit_transform(data['state'])\n",
    "    return data"
   ]
  },
  {
   "cell_type": "code",
   "execution_count": 66,
   "id": "d756bde7-c552-42ea-b0c6-1de3742033f7",
   "metadata": {},
   "outputs": [],
   "source": [
    "def splitting(data):\n",
    "    global X,y\n",
    "    X=data.drop('is_fraud',axis=1)\n",
    "    y=data.is_fraud\n",
    "    return X,y\n",
    "\n",
    "def scaling(data):\n",
    "    global Scaled_X\n",
    "    sc=StandardScaler()\n",
    "    Scaled_X=sc.fit_transform(X)\n",
    "    return Scaled_X"
   ]
  },
  {
   "cell_type": "code",
   "execution_count": 67,
   "id": "7bb85f8e",
   "metadata": {},
   "outputs": [],
   "source": [
    "#storing the number of values in each class\n",
    "non_fraud_count, fraud_count = df.is_fraud.value_counts()"
   ]
  },
  {
   "cell_type": "code",
   "execution_count": 68,
   "id": "26fffdab",
   "metadata": {},
   "outputs": [
    {
     "name": "stdout",
     "output_type": "stream",
     "text": [
      "Non fraud Transactions: 1289169\n",
      "Fraud Transactions: 7506\n"
     ]
    }
   ],
   "source": [
    "print('Non fraud Transactions:',non_fraud_count)\n",
    "print('Fraud Transactions:',fraud_count)"
   ]
  },
  {
   "cell_type": "markdown",
   "id": "8bf842d6",
   "metadata": {},
   "source": [
    "This is an imblance data, we have to manage this data, otherwise our model will be Overfit."
   ]
  },
  {
   "cell_type": "code",
   "execution_count": 70,
   "id": "78a45430-b33e-4e85-bcdb-f4e0fa1af775",
   "metadata": {},
   "outputs": [],
   "source": [
    "def undersample_data(feature,target):\n",
    "    global X,y\n",
    "    sampler=RandomUnderSampler(random_state=42)\n",
    "    X,y=sampler.fit_resample(feature,target)\n",
    "    return X,y"
   ]
  },
  {
   "cell_type": "code",
   "execution_count": 71,
   "id": "19b8c334-e88d-485e-a22b-b3a25406919e",
   "metadata": {},
   "outputs": [],
   "source": [
    "def drop_cols(data):\n",
    "    columns_to_drop = ['Unnamed: 0','zip', 'lat', 'long', 'city_pop', 'unix_time', \n",
    "                       'merch_lat','merch_long','trans_date_trans_time','dob',\n",
    "                       'first','last','cc_num', 'trans_num','street','city']\n",
    "    \n",
    "    # Only drop columns that exist in the DataFrame\n",
    "    existing_columns = [col for col in columns_to_drop if col in data.columns]\n",
    "    \n",
    "    data.drop(existing_columns, axis=1, inplace=True)\n",
    "    return data"
   ]
  },
  {
   "cell_type": "code",
   "execution_count": 72,
   "id": "a8771bf9-3ee1-4f5b-98cd-247c254b1699",
   "metadata": {},
   "outputs": [
    {
     "name": "stdout",
     "output_type": "stream",
     "text": [
      "Remaining columns after dropping specified columns:\n",
      "Index(['merchant', 'category', 'amt', 'gender', 'state', 'job', 'is_fraud',\n",
      "       'trans_hour', 'trans_day', 'age'],\n",
      "      dtype='object')\n"
     ]
    }
   ],
   "source": [
    "# Apply the drop_cols function\n",
    "df = drop_cols(df)\n",
    "\n",
    "# Print the remaining columns to verify the changes\n",
    "print(\"Remaining columns after dropping specified columns:\")\n",
    "print(df.columns)\n"
   ]
  },
  {
   "cell_type": "code",
   "execution_count": 73,
   "id": "b4717a78-8b2c-4efd-a720-255fcb458448",
   "metadata": {},
   "outputs": [
    {
     "name": "stdout",
     "output_type": "stream",
     "text": [
      "Requirement already satisfied: xgboost in c:\\users\\dell\\anaconda3\\lib\\site-packages (2.1.1)\n",
      "Requirement already satisfied: numpy in c:\\users\\dell\\anaconda3\\lib\\site-packages (from xgboost) (1.26.4)\n",
      "Requirement already satisfied: scipy in c:\\users\\dell\\anaconda3\\lib\\site-packages (from xgboost) (1.13.1)\n"
     ]
    }
   ],
   "source": [
    "!pip install xgboost"
   ]
  },
  {
   "cell_type": "code",
   "execution_count": 74,
   "id": "1a080dc7-73bb-48ce-99b2-df8374930270",
   "metadata": {
    "scrolled": true
   },
   "outputs": [
    {
     "name": "stdout",
     "output_type": "stream",
     "text": [
      "Training RandomForest...\n",
      "Best parameters for RandomForest: {'n_estimators': 9, 'min_samples_split': 2, 'max_depth': 21, 'criterion': 'entropy'}\n",
      "RandomForest Metrics:\n",
      "Accuracy: 0.998134825472955\n",
      "Precision: 0.9984004265529193\n",
      "Recall: 0.9978683719690914\n",
      "F1 Score: 0.9981343283582089\n",
      "AUC: 0.9981348254729551\n",
      "\n",
      "Training XGBoost...\n",
      "Best parameters for XGBoost: {'n_estimators': 9, 'max_depth': 10}\n",
      "XGBoost Metrics:\n",
      "Accuracy: 0.9889421795896616\n",
      "Precision: 0.9888119339371337\n",
      "Recall: 0.9890754063415934\n",
      "F1 Score: 0.9889436525909151\n",
      "AUC: 0.9889421795896617\n",
      "\n",
      "Training DecisionTree...\n",
      "Best parameters for DecisionTree: {'min_samples_split': 9, 'max_depth': 12, 'criterion': 'entropy'}\n",
      "DecisionTree Metrics:\n",
      "Accuracy: 0.988009592326139\n",
      "Precision: 0.9884\n",
      "Recall: 0.9876099120703438\n",
      "F1 Score: 0.9880047980807677\n",
      "AUC: 0.988009592326139\n",
      "\n",
      "\n",
      "Best Model: RandomForest with Overall Score: 0.9981345555652259\n",
      "Training Time: 159.9224761000005 seconds\n"
     ]
    }
   ],
   "source": [
    "from xgboost import XGBClassifier\n",
    "from sklearn.tree import DecisionTreeClassifier\n",
    "\n",
    "def Model_training(data):\n",
    "    global models, best_model_name, best_model\n",
    "    df = encoding(data)\n",
    "    df = drop_cols(df)\n",
    "    X, y = splitting(df)\n",
    "    X = scaling(X)\n",
    "    X, y = undersample_data(X, y)\n",
    "\n",
    "    # Models to train\n",
    "    models = {\n",
    "        'RandomForest': RandomForestClassifier(),\n",
    "        'XGBoost': XGBClassifier(use_label_encoder=False, eval_metric='mlogloss'),\n",
    "        'DecisionTree': DecisionTreeClassifier()\n",
    "    }\n",
    "    \n",
    "    # Hyperparameter search spaces\n",
    "    search_spaces = {\n",
    "        'RandomForest': {'n_estimators': range(1, 10), 'criterion': ['gini', 'entropy'],\n",
    "                         'max_depth': range(2, 51), 'min_samples_split': range(2, 11)},\n",
    "        'XGBoost': {'n_estimators': range(1, 10), 'max_depth': range(2, 11)},\n",
    "        'DecisionTree': {'criterion': ['gini', 'entropy'], 'max_depth': range(2, 51),\n",
    "                         'min_samples_split': range(2, 11)}\n",
    "    }\n",
    "\n",
    "    best_overall_score = 0\n",
    "\n",
    "    for model_name, model in models.items():\n",
    "        print(f\"Training {model_name}...\")\n",
    "        random_search = RandomizedSearchCV(estimator=model, param_distributions=search_spaces[model_name],\n",
    "                                           n_iter=100, cv=5)\n",
    "        random_search.fit(X, y)\n",
    "        best_params = random_search.best_params_\n",
    "        print(f\"Best parameters for {model_name}: {best_params}\")\n",
    "\n",
    "        # Train the model with the best parameters\n",
    "        model.set_params(**best_params)\n",
    "        model.fit(X, y)\n",
    "\n",
    "        # Make predictions and evaluate\n",
    "        y_pred = model.predict(X)\n",
    "        accuracy = accuracy_score(y, y_pred)\n",
    "        precision = precision_score(y, y_pred)\n",
    "        recall = recall_score(y, y_pred)\n",
    "        f1 = f1_score(y, y_pred)\n",
    "        auc_score = roc_auc_score(y, y_pred)\n",
    "\n",
    "        print(f\"{model_name} Metrics:\")\n",
    "        print(f\"Accuracy: {accuracy}\")\n",
    "        print(f\"Precision: {precision}\")\n",
    "        print(f\"Recall: {recall}\")\n",
    "        print(f\"F1 Score: {f1}\")\n",
    "        print(f\"AUC: {auc_score}\\n\")\n",
    "\n",
    "        # Calculate an overall score as an average of the above metrics\n",
    "        overall_score = (accuracy + precision + recall + f1 + auc_score) / 5\n",
    "\n",
    "        if overall_score > best_overall_score:\n",
    "            best_overall_score = overall_score\n",
    "            best_model_name = model_name\n",
    "            best_model = model\n",
    "\n",
    "    print(f\"\\nBest Model: {best_model_name} with Overall Score: {best_overall_score}\")\n",
    "    return best_model\n",
    "\n",
    "start = time.perf_counter()\n",
    "best_model = Model_training(df)\n",
    "end = time.perf_counter()\n",
    "print(f'Training Time: {end-start} seconds')"
   ]
  },
  {
   "cell_type": "code",
   "execution_count": 75,
   "id": "0e0ff3c7-fdee-42ca-b174-502e75a80c3f",
   "metadata": {},
   "outputs": [],
   "source": [
    "def predict(data):\n",
    "    global result\n",
    "    df = read_data(data)\n",
    "    df = transform(df)\n",
    "    df = encoding(df)\n",
    "    df = drop_cols(df)\n",
    "    X, y = splitting(df)\n",
    "    X = scaling(X)\n",
    "    result = best_model.predict(X)  # Use the best_model\n",
    "\n",
    "    # Print only the first 10 predictions\n",
    "    for i, j in enumerate(result[:10]):  # Slice to print only the first 10\n",
    "        if j == 1:\n",
    "            print(f'Transaction number {i} is: Fraud')\n",
    "        else:\n",
    "            print(f'Transaction number {i} is: Not Fraud')\n",
    "\n",
    "    return result  # Returns the original NumPy array"
   ]
  },
  {
   "cell_type": "code",
   "execution_count": 76,
   "id": "86f72365-4d21-4c4c-87fc-6c95c1af7f65",
   "metadata": {},
   "outputs": [
    {
     "name": "stdout",
     "output_type": "stream",
     "text": [
      "Info about Data:\n",
      "Number of records: 555719\n",
      "Number of columns: 23\n",
      "Transaction number 0 is: Not Fraud\n",
      "Transaction number 1 is: Not Fraud\n",
      "Transaction number 2 is: Not Fraud\n",
      "Transaction number 3 is: Not Fraud\n",
      "Transaction number 4 is: Not Fraud\n",
      "Transaction number 5 is: Fraud\n",
      "Transaction number 6 is: Not Fraud\n",
      "Transaction number 7 is: Not Fraud\n",
      "Transaction number 8 is: Not Fraud\n",
      "Transaction number 9 is: Not Fraud\n"
     ]
    }
   ],
   "source": [
    "# Making predictions on the unseen data (fraudTest.csv)\n",
    "predictions = predict('fraudTest.csv')\n"
   ]
  },
  {
   "cell_type": "code",
   "execution_count": 77,
   "id": "e085e93f-0451-4845-91dd-c48a95261666",
   "metadata": {},
   "outputs": [
    {
     "name": "stdout",
     "output_type": "stream",
     "text": [
      "RandomForest Performance Metrics:\n",
      "Accuracy Score: 0.9709\n",
      "\n",
      "Precision Score: 0.1137\n",
      "\n",
      "Recall Score: 0.9608\n",
      "\n",
      "Confusion Matrix:\n",
      "[[537505  16069]\n",
      " [    84   2061]]\n",
      "\n",
      "F1 Score: 0.2033\n",
      "\n",
      "Classification Report:\n",
      "              precision    recall  f1-score   support\n",
      "\n",
      "           0       1.00      0.97      0.99    553574\n",
      "           1       0.11      0.96      0.20      2145\n",
      "\n",
      "    accuracy                           0.97    555719\n",
      "   macro avg       0.56      0.97      0.59    555719\n",
      "weighted avg       1.00      0.97      0.98    555719\n",
      "\n",
      "\n",
      "AUC Score: 0.9659\n"
     ]
    },
    {
     "data": {
      "image/png": "[encoded data removed]",
      "text/plain": [
       "<Figure size 500x300 with 1 Axes>"
      ]
     },
     "metadata": {},
     "output_type": "display_data"
    }
   ],
   "source": [
    "from sklearn.metrics import accuracy_score, precision_score, recall_score, confusion_matrix, f1_score, classification_report, roc_curve, roc_auc_score\n",
    "import matplotlib.pyplot as plt\n",
    "\n",
    "def Model_Scores(data):\n",
    "    # Print the model name\n",
    "    print(f'{best_model_name} Performance Metrics:')\n",
    "    \n",
    "    # Calculate and print accuracy\n",
    "    accuracy = accuracy_score(y, data)\n",
    "    print(f'Accuracy Score: {accuracy:.4f}')\n",
    "    \n",
    "    # Calculate and print precision\n",
    "    precision = precision_score(y, data)\n",
    "    print(f'\\nPrecision Score: {precision:.4f}')\n",
    "    \n",
    "    # Calculate and print recall\n",
    "    recall = recall_score(y, data)\n",
    "    print(f'\\nRecall Score: {recall:.4f}')\n",
    "    \n",
    "    # Calculate and print confusion matrix\n",
    "    cm = confusion_matrix(y, data)\n",
    "    print(f'\\nConfusion Matrix:\\n{cm}')\n",
    "    \n",
    "    # Calculate and print F1 score\n",
    "    f1 = f1_score(y, data)\n",
    "    print(f'\\nF1 Score: {f1:.4f}')\n",
    "    \n",
    "    # Print classification report\n",
    "    print(f'\\nClassification Report:\\n{classification_report(y, data)}')\n",
    "    \n",
    "    # Calculate ROC curve and AUC score\n",
    "    fpr, tpr, thresholds = roc_curve(y, data)\n",
    "    auc_score = roc_auc_score(y, data)\n",
    "    print(f'\\nAUC Score: {auc_score:.4f}')\n",
    "    \n",
    "    # Plot ROC curve\n",
    "    def plot_roc_curve(fpr, tpr, auc):\n",
    "        plt.figure(figsize=(5, 3))\n",
    "        plt.plot(fpr, tpr, color='blue', label=f'ROC curve (area = {auc:.2f})')\n",
    "        plt.plot([0, 1], [0, 1], color='red', linestyle='--')  # Diagonal line\n",
    "        plt.xlim([0.0, 1.0])\n",
    "        plt.ylim([0.0, 1.05])\n",
    "        plt.xlabel('False Positive Rate')\n",
    "        plt.ylabel('True Positive Rate')\n",
    "        plt.title('Receiver Operating Characteristic')\n",
    "        plt.legend(loc='lower right')\n",
    "        plt.show()\n",
    "\n",
    "    plot_roc_curve(fpr, tpr, auc_score)\n",
    "\n",
    "# Evaluate the model on the unseen data\n",
    "Model_Scores(predictions)"
   ]
  },
  {
   "cell_type": "code",
   "execution_count": null,
   "id": "412ac2e4-108d-4b18-8906-07e05b9bb5ea",
   "metadata": {},
   "outputs": [],
   "source": []
  }
 ],
 "metadata": {
  "kernelspec": {
   "display_name": "Python 3 (ipykernel)",
   "language": "python",
   "name": "python3"
  },
  "language_info": {
   "codemirror_mode": {
    "name": "ipython",
    "version": 3
   },
   "file_extension": ".py",
   "mimetype": "text/x-python",
   "name": "python",
   "nbconvert_exporter": "python",
   "pygments_lexer": "ipython3",
   "version": "3.12.4"
  }
 },
 "nbformat": 4,
 "nbformat_minor": 5
}
